{
 "cells": [
  {
   "cell_type": "markdown",
   "metadata": {},
   "source": [
    "# Machine Learning with Tensorflow\n",
    "\n",
    "Tensorflow (TF) can not only be used for deep learning, but for numerical computations in general. It is specially suited for handling matrices and tensors.\n",
    "\n",
    "In this notebook we will explore how to use TF for *traditional* machine learning (ML) model, and how it compares to solving the same problem using a deep learning model."
   ]
  },
  {
   "cell_type": "code",
   "execution_count": 1,
   "metadata": {},
   "outputs": [
    {
     "name": "stdout",
     "output_type": "stream",
     "text": [
      "Populating the interactive namespace from numpy and matplotlib\n",
      "1.11.0\n"
     ]
    }
   ],
   "source": [
    "%pylab inline\n",
    "plt.style.use('seaborn-talk')\n",
    "import tensorflow as tf\n",
    "\n",
    "print(tf.__version__)"
   ]
  },
  {
   "cell_type": "markdown",
   "metadata": {},
   "source": [
    "## Getting familiar with Tensorflow"
   ]
  },
  {
   "cell_type": "markdown",
   "metadata": {},
   "source": [
    "TF uses lazy evaluation. When we define an operation, we only create the execution graph for that operation. We need to explicitly *run* the graph to obtain the result.\n",
    "* TF also supports eager execution in Python, which runs the operations inmediately, but we will not use it in this notebook\n",
    "* Eager execution is intented for running small tests in an interactive notebook or prompt"
   ]
  },
  {
   "cell_type": "markdown",
   "metadata": {},
   "source": [
    "In Numpy, operations occur as soon as they are written:"
   ]
  },
  {
   "cell_type": "code",
   "execution_count": 2,
   "metadata": {},
   "outputs": [
    {
     "data": {
      "text/plain": [
       "array([ 7,  4, 12])"
      ]
     },
     "execution_count": 2,
     "metadata": {},
     "output_type": "execute_result"
    }
   ],
   "source": [
    "a = np.array([5,3,8])\n",
    "b = np.array([2,1,4])\n",
    "c = np.add(a,b)  # also valid c = a + b\n",
    "c"
   ]
  },
  {
   "cell_type": "markdown",
   "metadata": {},
   "source": [
    "However, if we try the same in TF:"
   ]
  },
  {
   "cell_type": "code",
   "execution_count": 3,
   "metadata": {},
   "outputs": [
    {
     "data": {
      "text/plain": [
       "<tf.Tensor 'Add:0' shape=(3,) dtype=int32>"
      ]
     },
     "execution_count": 3,
     "metadata": {},
     "output_type": "execute_result"
    }
   ],
   "source": [
    "a = tf.constant([5,3,8])\n",
    "b = tf.constant([2,1,4])\n",
    "c = tf.add(a,b)  # also valid c = a + b\n",
    "c"
   ]
  },
  {
   "cell_type": "markdown",
   "metadata": {},
   "source": [
    "We need to explicitly run the graph to obtain a result:"
   ]
  },
  {
   "cell_type": "code",
   "execution_count": 4,
   "metadata": {},
   "outputs": [
    {
     "data": {
      "text/plain": [
       "array([ 7,  4, 12])"
      ]
     },
     "execution_count": 4,
     "metadata": {},
     "output_type": "execute_result"
    }
   ],
   "source": [
    "with tf.Session() as s:\n",
    "    result = s.run(c)\n",
    "    \n",
    "result"
   ]
  },
  {
   "cell_type": "markdown",
   "metadata": {},
   "source": [
    "### Exercise\n",
    "\n",
    "To obtain the area of a triangle given the length of its sides $a$, $b$ and $c$, you can use the Formula of Heron \n",
    "\n",
    "$\\sqrt{s(s-a)(s-b)(s-c)}$ where $\\displaystyle s=\\frac{a+b+c}{2}$ \n",
    "\n",
    "* For more context, see https://en.wikipedia.org/wiki/Heron%27s_formula\n",
    "\n",
    "Assume that $a$, $b$ and $c$ are given as an array with 3 columns and an arbirtray number of rows, named *sides*. Each row is a possible triangle\n",
    "\n",
    "You should write two functions that takes as inputs the arrays *sides* and returns an array with as many components as triangles, being each component the area of the corresponding triangle:\n",
    "* One function using Numpy\n",
    "* One function using Tensorflow. \n",
    " *  The function should return the *tf.Tensor* without running it. The caller of the function will need to run the output afterwards to get the result\n",
    " * How do you do a square root in TF? Look up the available operations at https://www.tensorflow.org/api_docs/python/tf"
   ]
  },
  {
   "cell_type": "code",
   "execution_count": 5,
   "metadata": {
    "collapsed": true
   },
   "outputs": [],
   "source": [
    "# Solution with Numpy\n",
    "def heron_np(sides):\n",
    "    a = sides[:,0]\n",
    "    b = sides[:,1]\n",
    "    c = sides[:,2]\n",
    "    s = (a+b+c)/2\n",
    "    areas = np.sqrt(s*(s-a)*(s-b)*(s-c))\n",
    "    return areas"
   ]
  },
  {
   "cell_type": "code",
   "execution_count": 6,
   "metadata": {},
   "outputs": [
    {
     "name": "stdout",
     "output_type": "stream",
     "text": [
      "Input triangles:\n",
      "[[5.  3.  7.1]\n",
      " [2.3 4.1 4.8]]\n",
      "Output with multiple rows:\n",
      "[6.27849454 4.70914005]\n",
      "Outputs with single rows:\n",
      "[6.27849454]\n",
      "[4.70914005]\n"
     ]
    }
   ],
   "source": [
    "# Check results with numpy\n",
    "sides = np.array([[5, 3, 7.1],[ 2.3, 4.1, 4.8]])\n",
    "print(\"Input triangles:\")\n",
    "print(sides)\n",
    "\n",
    "print(\"Output with multiple rows:\")\n",
    "multi = heron_np(sides)\n",
    "print(multi)\n",
    "print(\"Outputs with single rows:\")\n",
    "a1 = heron_np(np.array([sides[0,:]]))\n",
    "a2 = heron_np(np.array([sides[1,:]]))\n",
    "print(a1)\n",
    "print(a2)\n",
    "assert np.all(multi == np.append(a1,a2))"
   ]
  },
  {
   "cell_type": "code",
   "execution_count": 7,
   "metadata": {
    "collapsed": true
   },
   "outputs": [],
   "source": [
    "# Solution with TF: handling tensors in TF is quite similar to handling numpy arrays\n",
    "def heron_tf(sides):\n",
    "    a = sides[:,0]\n",
    "    b = sides[:,1]\n",
    "    c = sides[:,2]\n",
    "    s = (a+b+c)/2\n",
    "    areas = tf.sqrt(s*(s-a)*(s-b)*(s-c))\n",
    "    # Using * is just more conveninent than tf.multiply:\n",
    "    # areas = tf.srqt(tf.multiply(s,tf.multiply(s-a, tf.multiply....)))\n",
    "    return areas"
   ]
  },
  {
   "cell_type": "code",
   "execution_count": 8,
   "metadata": {},
   "outputs": [
    {
     "name": "stdout",
     "output_type": "stream",
     "text": [
      "Input triangles:\n",
      "[[5.  3.  7.1]\n",
      " [2.3 4.1 4.8]]\n",
      "Output with multiple rows:\n",
      "[6.278497 4.709139]\n",
      "Outputs with single rows:\n",
      "[6.278497]\n",
      "[4.709139]\n"
     ]
    }
   ],
   "source": [
    "sides = tf.constant([[5, 3, 7.1],[ 2.3, 4.1, 4.8]])\n",
    "multi = heron_tf(sides)\n",
    "a1 = heron_tf(sides[0:1, :])\n",
    "a2 = heron_tf(sides[1:2, :])\n",
    "\n",
    "with tf.Session() as s:\n",
    "    # We need to evaluate all the results that we want to recover\n",
    "    results = s.run([sides, multi, a1, a2])\n",
    "    \n",
    "# These results are now Numpy arrays, after being calculated by TF\n",
    "sides_r, multi_r, a1_r, a2_r = results\n",
    "\n",
    "print(\"Input triangles:\")\n",
    "print(sides_r)  # QUESTION: Could we use the variable sides here? How would the output look like? \n",
    "                #           Why are we using sides_r?\n",
    "\n",
    "print(\"Output with multiple rows:\")\n",
    "print(multi_r)  # QUESTION: What is the output if we put multi here?\n",
    "print(\"Outputs with single rows:\")\n",
    "print(a1_r)\n",
    "print(a2_r)\n",
    "assert np.all(multi_r == np.append(a1_r,a2_r))"
   ]
  },
  {
   "cell_type": "markdown",
   "metadata": {},
   "source": [
    "## Our first model"
   ]
  },
  {
   "cell_type": "markdown",
   "metadata": {},
   "source": [
    "For this model, we will use the following data:\n",
    "* http://www.nyc.gov/html/tlc/html/about/trip_record_data.shtml\n",
    "\n",
    "In the data subdirectory, you will find three files. We have divided the dataset in three subsets\n",
    "* Training\n",
    "* Validation\n",
    "* Test\n",
    "\n",
    "**Question**: Why three different sets? What will we use the validation set for? Could not we use just two subsets?"
   ]
  },
  {
   "cell_type": "code",
   "execution_count": 9,
   "metadata": {},
   "outputs": [
    {
     "name": "stdout",
     "output_type": "stream",
     "text": [
      "-rw-r--r-- 1 ptardaguila 1049089  84K Nov 16 13:01 ../data/taxi-test.csv\n",
      "-rw-r--r-- 1 ptardaguila 1049089 394K Nov 16 13:01 ../data/taxi-train.csv\n",
      "-rw-r--r-- 1 ptardaguila 1049089  84K Nov 16 13:01 ../data/taxi-valid.csv\n"
     ]
    }
   ],
   "source": [
    "! ls -hl ../data/taxi*"
   ]
  },
  {
   "cell_type": "code",
   "execution_count": 10,
   "metadata": {
    "collapsed": true
   },
   "outputs": [],
   "source": [
    "# We will use Pandas to explore the data\n",
    "import pandas as pd"
   ]
  },
  {
   "cell_type": "code",
   "execution_count": 11,
   "metadata": {
    "collapsed": true
   },
   "outputs": [],
   "source": [
    "# The CSV files come without a header, let's put some names for clarity\n",
    "CSV_COLUMNS = ['fare_amount', 'pickuplon','pickuplat','dropofflon','dropofflat','passengers', 'key']"
   ]
  },
  {
   "cell_type": "code",
   "execution_count": 12,
   "metadata": {},
   "outputs": [],
   "source": [
    "df_train = pd.read_csv('../data/taxi-train.csv', header=None, names=CSV_COLUMNS)\n",
    "df_valid = pd.read_csv('../data/taxi-valid.csv', header=None, names=CSV_COLUMNS)\n",
    "df_test = pd.read_csv('../data/taxi-test.csv', header=None, names=CSV_COLUMNS)"
   ]
  },
  {
   "cell_type": "code",
   "execution_count": 13,
   "metadata": {},
   "outputs": [
    {
     "data": {
      "text/html": [
       "<div>\n",
       "<style scoped>\n",
       "    .dataframe tbody tr th:only-of-type {\n",
       "        vertical-align: middle;\n",
       "    }\n",
       "\n",
       "    .dataframe tbody tr th {\n",
       "        vertical-align: top;\n",
       "    }\n",
       "\n",
       "    .dataframe thead th {\n",
       "        text-align: right;\n",
       "    }\n",
       "</style>\n",
       "<table border=\"1\" class=\"dataframe\">\n",
       "  <thead>\n",
       "    <tr style=\"text-align: right;\">\n",
       "      <th></th>\n",
       "      <th>fare_amount</th>\n",
       "      <th>pickuplon</th>\n",
       "      <th>pickuplat</th>\n",
       "      <th>dropofflon</th>\n",
       "      <th>dropofflat</th>\n",
       "      <th>passengers</th>\n",
       "      <th>key</th>\n",
       "    </tr>\n",
       "  </thead>\n",
       "  <tbody>\n",
       "    <tr>\n",
       "      <th>0</th>\n",
       "      <td>9.0</td>\n",
       "      <td>-73.932198</td>\n",
       "      <td>40.795582</td>\n",
       "      <td>-73.935471</td>\n",
       "      <td>40.800110</td>\n",
       "      <td>1</td>\n",
       "      <td>0</td>\n",
       "    </tr>\n",
       "    <tr>\n",
       "      <th>1</th>\n",
       "      <td>4.5</td>\n",
       "      <td>-73.967703</td>\n",
       "      <td>40.756252</td>\n",
       "      <td>-73.972677</td>\n",
       "      <td>40.747745</td>\n",
       "      <td>1</td>\n",
       "      <td>1</td>\n",
       "    </tr>\n",
       "    <tr>\n",
       "      <th>2</th>\n",
       "      <td>30.5</td>\n",
       "      <td>-73.863693</td>\n",
       "      <td>40.769852</td>\n",
       "      <td>-73.817482</td>\n",
       "      <td>40.664795</td>\n",
       "      <td>1</td>\n",
       "      <td>2</td>\n",
       "    </tr>\n",
       "    <tr>\n",
       "      <th>3</th>\n",
       "      <td>4.5</td>\n",
       "      <td>-73.969182</td>\n",
       "      <td>40.766816</td>\n",
       "      <td>-73.962413</td>\n",
       "      <td>40.778255</td>\n",
       "      <td>1</td>\n",
       "      <td>3</td>\n",
       "    </tr>\n",
       "    <tr>\n",
       "      <th>4</th>\n",
       "      <td>5.7</td>\n",
       "      <td>-73.975688</td>\n",
       "      <td>40.751843</td>\n",
       "      <td>-73.978840</td>\n",
       "      <td>40.744205</td>\n",
       "      <td>1</td>\n",
       "      <td>4</td>\n",
       "    </tr>\n",
       "    <tr>\n",
       "      <th>5</th>\n",
       "      <td>20.5</td>\n",
       "      <td>-73.993289</td>\n",
       "      <td>40.752283</td>\n",
       "      <td>-73.940769</td>\n",
       "      <td>40.788656</td>\n",
       "      <td>1</td>\n",
       "      <td>5</td>\n",
       "    </tr>\n",
       "    <tr>\n",
       "      <th>6</th>\n",
       "      <td>4.1</td>\n",
       "      <td>-73.944658</td>\n",
       "      <td>40.779262</td>\n",
       "      <td>-73.954415</td>\n",
       "      <td>40.781145</td>\n",
       "      <td>1</td>\n",
       "      <td>6</td>\n",
       "    </tr>\n",
       "    <tr>\n",
       "      <th>7</th>\n",
       "      <td>11.5</td>\n",
       "      <td>-73.834687</td>\n",
       "      <td>40.717252</td>\n",
       "      <td>-73.839610</td>\n",
       "      <td>40.752702</td>\n",
       "      <td>1</td>\n",
       "      <td>7</td>\n",
       "    </tr>\n",
       "    <tr>\n",
       "      <th>8</th>\n",
       "      <td>6.9</td>\n",
       "      <td>-73.987127</td>\n",
       "      <td>40.738842</td>\n",
       "      <td>-73.969777</td>\n",
       "      <td>40.759165</td>\n",
       "      <td>1</td>\n",
       "      <td>8</td>\n",
       "    </tr>\n",
       "    <tr>\n",
       "      <th>9</th>\n",
       "      <td>4.9</td>\n",
       "      <td>-74.008033</td>\n",
       "      <td>40.722897</td>\n",
       "      <td>-74.000918</td>\n",
       "      <td>40.728945</td>\n",
       "      <td>5</td>\n",
       "      <td>9</td>\n",
       "    </tr>\n",
       "  </tbody>\n",
       "</table>\n",
       "</div>"
      ],
      "text/plain": [
       "   fare_amount  pickuplon  pickuplat  dropofflon  dropofflat  passengers  key\n",
       "0          9.0 -73.932198  40.795582  -73.935471   40.800110           1    0\n",
       "1          4.5 -73.967703  40.756252  -73.972677   40.747745           1    1\n",
       "2         30.5 -73.863693  40.769852  -73.817482   40.664795           1    2\n",
       "3          4.5 -73.969182  40.766816  -73.962413   40.778255           1    3\n",
       "4          5.7 -73.975688  40.751843  -73.978840   40.744205           1    4\n",
       "5         20.5 -73.993289  40.752283  -73.940769   40.788656           1    5\n",
       "6          4.1 -73.944658  40.779262  -73.954415   40.781145           1    6\n",
       "7         11.5 -73.834687  40.717252  -73.839610   40.752702           1    7\n",
       "8          6.9 -73.987127  40.738842  -73.969777   40.759165           1    8\n",
       "9          4.9 -74.008033  40.722897  -74.000918   40.728945           5    9"
      ]
     },
     "execution_count": 13,
     "metadata": {},
     "output_type": "execute_result"
    }
   ],
   "source": [
    "df_train.head(10)"
   ]
  },
  {
   "cell_type": "markdown",
   "metadata": {},
   "source": [
    "### Transforming input data\n",
    "We will train a simple linear model using tf.estimator, a higher level API of TF.\n",
    "\n",
    "Notice that we have the data in Pandas dataframes. How can we feed a pandas dataframe to TF?\n",
    "\n",
    "One option is converting it to tensor from the dataframe."
   ]
  },
  {
   "cell_type": "code",
   "execution_count": 14,
   "metadata": {
    "collapsed": true
   },
   "outputs": [],
   "source": [
    "tf_train = tf.convert_to_tensor(df_train)\n",
    "tf_valid = tf.convert_to_tensor(df_valid)\n",
    "tf_test = tf.convert_to_tensor(df_test)"
   ]
  },
  {
   "cell_type": "code",
   "execution_count": 15,
   "metadata": {},
   "outputs": [
    {
     "data": {
      "text/plain": [
       "<tf.Tensor 'Const_3:0' shape=(7333, 7) dtype=float64>"
      ]
     },
     "execution_count": 15,
     "metadata": {},
     "output_type": "execute_result"
    }
   ],
   "source": [
    "tf_train"
   ]
  },
  {
   "cell_type": "markdown",
   "metadata": {},
   "source": [
    "However, it is easier to keep the Pandas df info (column names, etc.) to evaluate the model later on. We can create a TF dataset from Pandas, to use with tf.estimator.\n",
    "\n",
    "We will write a function so we can make several tests changing the number of epochs (one of the hyperaparemeters)"
   ]
  },
  {
   "cell_type": "code",
   "execution_count": 16,
   "metadata": {
    "collapsed": true
   },
   "outputs": [],
   "source": [
    "def pandas2tf(df, epochs):\n",
    "    tf_dataset = tf.estimator.inputs.pandas_input_fn(\n",
    "    x=df,\n",
    "    y=df.fare_amount,\n",
    "    batch_size=128,\n",
    "    num_epochs=epochs,  # we will tweak this hyperparam.\n",
    "    shuffle=True,\n",
    "    queue_capacity=1000,\n",
    "    num_threads=1\n",
    "    )\n",
    "    \n",
    "    return tf_dataset"
   ]
  },
  {
   "cell_type": "code",
   "execution_count": 17,
   "metadata": {
    "collapsed": true
   },
   "outputs": [],
   "source": [
    "tf_train = pandas2tf(df_train, 1)\n",
    "tf_valid = pandas2tf(df_valid, 1)\n",
    "tf_test = pandas2tf(df_test, 1)"
   ]
  },
  {
   "cell_type": "code",
   "execution_count": 18,
   "metadata": {},
   "outputs": [
    {
     "data": {
      "text/plain": [
       "<function tensorflow.python.estimator.inputs.pandas_io.pandas_input_fn.<locals>.input_fn()>"
      ]
     },
     "execution_count": 18,
     "metadata": {},
     "output_type": "execute_result"
    }
   ],
   "source": [
    "tf_train"
   ]
  },
  {
   "cell_type": "markdown",
   "metadata": {},
   "source": [
    "### Feature columns\n",
    "\n",
    "For the model, we need to select the feature columns. We will use all columns, except the *key* one, which is just an index.\n",
    "\n",
    "Also, the first column is in fact the target variable that we will predict, so we will remove it from the features too."
   ]
  },
  {
   "cell_type": "code",
   "execution_count": 19,
   "metadata": {},
   "outputs": [
    {
     "data": {
      "text/plain": [
       "[_NumericColumn(key='pickuplon', shape=(1,), default_value=None, dtype=tf.float32, normalizer_fn=None),\n",
       " _NumericColumn(key='pickuplat', shape=(1,), default_value=None, dtype=tf.float32, normalizer_fn=None),\n",
       " _NumericColumn(key='dropofflon', shape=(1,), default_value=None, dtype=tf.float32, normalizer_fn=None),\n",
       " _NumericColumn(key='dropofflat', shape=(1,), default_value=None, dtype=tf.float32, normalizer_fn=None),\n",
       " _NumericColumn(key='passengers', shape=(1,), default_value=None, dtype=tf.float32, normalizer_fn=None)]"
      ]
     },
     "execution_count": 19,
     "metadata": {},
     "output_type": "execute_result"
    }
   ],
   "source": [
    "feature_cols = [tf.feature_column.numeric_column(c) for c in CSV_COLUMNS[1:-1]]  # we drop the first and last columns\n",
    "feature_cols"
   ]
  },
  {
   "cell_type": "markdown",
   "metadata": {},
   "source": [
    "### Training the model"
   ]
  },
  {
   "cell_type": "code",
   "execution_count": 20,
   "metadata": {},
   "outputs": [
    {
     "name": "stdout",
     "output_type": "stream",
     "text": [
      "INFO:tensorflow:Using default config.\n",
      "INFO:tensorflow:Using config: {'_model_dir': 'taxi_trained', '_tf_random_seed': None, '_save_summary_steps': 100, '_save_checkpoints_steps': None, '_save_checkpoints_secs': 600, '_session_config': allow_soft_placement: true\n",
      "graph_options {\n",
      "  rewrite_options {\n",
      "    meta_optimizer_iterations: ONE\n",
      "  }\n",
      "}\n",
      ", '_keep_checkpoint_max': 5, '_keep_checkpoint_every_n_hours': 10000, '_log_step_count_steps': 100, '_train_distribute': None, '_device_fn': None, '_protocol': None, '_eval_distribute': None, '_experimental_distribute': None, '_service': None, '_cluster_spec': <tensorflow.python.training.server_lib.ClusterSpec object at 0x000000000E54D320>, '_task_type': 'worker', '_task_id': 0, '_global_id_in_cluster': 0, '_master': '', '_evaluation_master': '', '_is_chief': True, '_num_ps_replicas': 0, '_num_worker_replicas': 1}\n"
     ]
    }
   ],
   "source": [
    "tf.logging.set_verbosity(tf.logging.INFO)\n",
    "\n",
    "import shutil\n",
    "# WARNING!!!! THIS DIRECTORY WILL BE REMOVED, DON'T PUT ANYTHING THERE\n",
    "OUTDIR = 'taxi_trained'\n",
    "shutil.rmtree(OUTDIR, ignore_errors = True) # start fresh each time\n",
    "\n",
    "linear_model = tf.estimator.LinearRegressor(feature_columns=feature_cols, model_dir=OUTDIR)"
   ]
  },
  {
   "cell_type": "code",
   "execution_count": 21,
   "metadata": {},
   "outputs": [
    {
     "name": "stdout",
     "output_type": "stream",
     "text": [
      "WARNING:tensorflow:From C:\\ProgramData\\Anaconda3\\envs\\dl_win\\lib\\site-packages\\tensorflow\\python\\estimator\\inputs\\queues\\feeding_queue_runner.py:62: QueueRunner.__init__ (from tensorflow.python.training.queue_runner_impl) is deprecated and will be removed in a future version.\n",
      "Instructions for updating:\n",
      "To construct input pipelines, use the `tf.data` module.\n",
      "WARNING:tensorflow:From C:\\ProgramData\\Anaconda3\\envs\\dl_win\\lib\\site-packages\\tensorflow\\python\\estimator\\inputs\\queues\\feeding_functions.py:500: add_queue_runner (from tensorflow.python.training.queue_runner_impl) is deprecated and will be removed in a future version.\n",
      "Instructions for updating:\n",
      "To construct input pipelines, use the `tf.data` module.\n",
      "INFO:tensorflow:Calling model_fn.\n",
      "INFO:tensorflow:Done calling model_fn.\n",
      "INFO:tensorflow:Create CheckpointSaverHook.\n",
      "INFO:tensorflow:Graph was finalized.\n",
      "INFO:tensorflow:Running local_init_op.\n",
      "INFO:tensorflow:Done running local_init_op.\n",
      "WARNING:tensorflow:From C:\\ProgramData\\Anaconda3\\envs\\dl_win\\lib\\site-packages\\tensorflow\\python\\training\\monitored_session.py:804: start_queue_runners (from tensorflow.python.training.queue_runner_impl) is deprecated and will be removed in a future version.\n",
      "Instructions for updating:\n",
      "To construct input pipelines, use the `tf.data` module.\n",
      "INFO:tensorflow:Saving checkpoints for 0 into taxi_trained\\model.ckpt.\n",
      "INFO:tensorflow:loss = 25951.188, step = 1\n",
      "INFO:tensorflow:Saving checkpoints for 58 into taxi_trained\\model.ckpt.\n",
      "INFO:tensorflow:Loss for final step: 4116.65.\n"
     ]
    },
    {
     "data": {
      "text/plain": [
       "<tensorflow.python.estimator.canned.linear.LinearRegressor at 0xdeac898>"
      ]
     },
     "execution_count": 21,
     "metadata": {},
     "output_type": "execute_result"
    }
   ],
   "source": [
    "linear_model.train(tf_train)"
   ]
  },
  {
   "cell_type": "markdown",
   "metadata": {},
   "source": [
    "### Evaluate the model\n",
    "\n",
    "Is this model good? How can we interpret the average loss in the evaluation metrics dict? What's the *physical meaning* of that number?"
   ]
  },
  {
   "cell_type": "code",
   "execution_count": 22,
   "metadata": {},
   "outputs": [
    {
     "name": "stdout",
     "output_type": "stream",
     "text": [
      "INFO:tensorflow:Calling model_fn.\n",
      "INFO:tensorflow:Done calling model_fn.\n",
      "INFO:tensorflow:Starting evaluation at 2018-11-21-21:14:19\n",
      "INFO:tensorflow:Graph was finalized.\n",
      "INFO:tensorflow:Restoring parameters from taxi_trained\\model.ckpt-58\n",
      "INFO:tensorflow:Running local_init_op.\n",
      "INFO:tensorflow:Done running local_init_op.\n",
      "INFO:tensorflow:Finished evaluation at 2018-11-21-21:14:20\n",
      "INFO:tensorflow:Saving dict for global step 58: average_loss = 94.70827, global_step = 58, label/mean = 11.340871, loss = 11445.13, prediction/mean = 11.792404\n",
      "INFO:tensorflow:Saving 'checkpoint_path' summary for global step 58: taxi_trained\\model.ckpt-58\n"
     ]
    },
    {
     "data": {
      "text/plain": [
       "{'average_loss': 94.70827,\n",
       " 'label/mean': 11.340871,\n",
       " 'loss': 11445.13,\n",
       " 'prediction/mean': 11.792404,\n",
       " 'global_step': 58}"
      ]
     },
     "execution_count": 22,
     "metadata": {},
     "output_type": "execute_result"
    }
   ],
   "source": [
    "metrics = linear_model.evaluate(tf_valid)\n",
    "metrics"
   ]
  },
  {
   "cell_type": "markdown",
   "metadata": {},
   "source": [
    "#### Question\n",
    "\n",
    "What is the average loss if we use the tf_train with evaluate? Is it correct to use those numbers to evaluate the model?"
   ]
  },
  {
   "cell_type": "markdown",
   "metadata": {},
   "source": [
    "### Exercise: plot the average loss for the training and validation datasets, over the num. of epochs\n",
    "\n",
    "What is the impact of the number of epochs in the results of the model?\n",
    "\n",
    "Repeat the training process with epochs ranging from 1 to 10, and plot the *average_loss* for the training and validation datasets.\n",
    "* What conclusions can you extract from that plot?"
   ]
  },
  {
   "cell_type": "code",
   "execution_count": 23,
   "metadata": {
    "collapsed": true
   },
   "outputs": [],
   "source": [
    "tf.logging.set_verbosity(tf.logging.ERROR)\n",
    "OUTDIR = 'taxi_trained'\n",
    "shutil.rmtree(OUTDIR, ignore_errors = True) # start fresh each time\n",
    "    \n",
    "def train_for_epochs(nepochs):\n",
    "    tf_train = pandas2tf(df_train, nepochs)\n",
    "    tf_valid = pandas2tf(df_valid, nepochs)\n",
    "    model = tf.estimator.LinearRegressor(feature_columns=feature_cols, model_dir=OUTDIR, config=tf.estimator.RunConfig().replace(save_summary_steps=1))\n",
    "    model.train(tf_train)\n",
    "    # name is necessary to write logs for Tensorboard\n",
    "    train_loss = model.evaluate(tf_train, name=OUTDIR)['average_loss']\n",
    "    valid_loss = model.evaluate(tf_valid, name=OUTDIR)['average_loss']\n",
    "    \n",
    "    return train_loss, valid_loss"
   ]
  },
  {
   "cell_type": "code",
   "execution_count": null,
   "metadata": {
    "collapsed": true
   },
   "outputs": [],
   "source": []
  },
  {
   "cell_type": "code",
   "execution_count": 24,
   "metadata": {},
   "outputs": [
    {
     "name": "stdout",
     "output_type": "stream",
     "text": [
      "Training with 1 epochs...\n",
      "Training with 2 epochs...\n",
      "Training with 3 epochs...\n",
      "Training with 4 epochs...\n",
      "Training with 5 epochs...\n",
      "Training with 6 epochs...\n",
      "Training with 7 epochs...\n",
      "Training with 8 epochs...\n",
      "Training with 9 epochs...\n",
      "Training with 10 epochs...\n"
     ]
    }
   ],
   "source": [
    "epochs = np.arange(1,11)\n",
    "train_loss = []\n",
    "valid_loss = []\n",
    "for e in epochs:\n",
    "    print(\"Training with %d epochs...\" % e)\n",
    "    t, v = train_for_epochs(e)\n",
    "    train_loss.append(t)\n",
    "    valid_loss.append(v)"
   ]
  },
  {
   "cell_type": "code",
   "execution_count": 25,
   "metadata": {},
   "outputs": [
    {
     "data": {
      "image/png": "[encoded data removed]",
      "text/plain": [
       "<Figure size 720x504 with 1 Axes>"
      ]
     },
     "metadata": {
      "needs_background": "light"
     },
     "output_type": "display_data"
    }
   ],
   "source": [
    "plt.figure(figsize=(10,7))\n",
    "plt.plot(epochs, train_loss, label='Training')\n",
    "plt.plot(epochs, valid_loss, label='Validation')\n",
    "plt.legend()\n",
    "plt.xlabel('Epochs')\n",
    "plt.ylabel('Loss')\n",
    "plt.grid()"
   ]
  },
  {
   "cell_type": "markdown",
   "metadata": {},
   "source": [
    "So the model does not look exceptionally good. This is normal, we have just tried a linear model without any kind of feature engineering or transformation; we don't know for instance if the relationship between *fare_amount* and the rest of features is linear or not.\n",
    "\n",
    "Let's try another simple model using TF, but this one will be more complex"
   ]
  },
  {
   "cell_type": "markdown",
   "metadata": {},
   "source": [
    "## A more complex model\n",
    "\n",
    "We are going to reuse a lot of code from the previous model, we will just change the kind of estimator we are using.\n",
    "\n",
    "Let's repeat the same estimator again, and we will run it for 20 epochs this time. Then we will compare it with the new one:"
   ]
  },
  {
   "cell_type": "code",
   "execution_count": 26,
   "metadata": {},
   "outputs": [
    {
     "name": "stdout",
     "output_type": "stream",
     "text": [
      "Training with 1 epochs...\n",
      "Training with 2 epochs...\n",
      "Training with 3 epochs...\n",
      "Training with 4 epochs...\n",
      "Training with 5 epochs...\n",
      "Training with 6 epochs...\n",
      "Training with 7 epochs...\n",
      "Training with 8 epochs...\n",
      "Training with 9 epochs...\n",
      "Training with 10 epochs...\n",
      "Training with 11 epochs...\n",
      "Training with 12 epochs...\n",
      "Training with 13 epochs...\n",
      "Training with 14 epochs...\n",
      "Training with 15 epochs...\n",
      "Training with 16 epochs...\n",
      "Training with 17 epochs...\n",
      "Training with 18 epochs...\n",
      "Training with 19 epochs...\n",
      "Training with 20 epochs...\n"
     ]
    }
   ],
   "source": [
    "shutil.rmtree(OUTDIR, ignore_errors = True) # start fresh each time\n",
    "\n",
    "epochs = np.arange(1,21)\n",
    "\n",
    "train_loss = []\n",
    "valid_loss = []\n",
    "for e in epochs:\n",
    "    print(\"Training with %d epochs...\" % e)\n",
    "    t, v = train_for_epochs(e)\n",
    "    train_loss.append(t)\n",
    "    valid_loss.append(v)"
   ]
  },
  {
   "cell_type": "code",
   "execution_count": 27,
   "metadata": {
    "collapsed": true
   },
   "outputs": [],
   "source": [
    "tf.logging.set_verbosity(tf.logging.ERROR)\n",
    "    \n",
    "def train_for_epochs_dl(nepochs):\n",
    "    tf_train = pandas2tf(df_train, nepochs)\n",
    "    tf_valid = pandas2tf(df_valid, nepochs)\n",
    "    model = tf.estimator.DNNRegressor(hidden_units=[32, 8, 2], feature_columns=feature_cols, model_dir=OUTDIR)\n",
    "    model.train(tf_train)\n",
    "    # name is necessary to write logs for Tensorboard\n",
    "    train_loss = model.evaluate(tf_train, name=OUTDIR)['average_loss']\n",
    "    valid_loss = model.evaluate(tf_valid, name=OUTDIR)['average_loss']\n",
    "    \n",
    "    return train_loss, valid_loss"
   ]
  },
  {
   "cell_type": "code",
   "execution_count": 28,
   "metadata": {},
   "outputs": [
    {
     "name": "stdout",
     "output_type": "stream",
     "text": [
      "Training with 1 epochs...\n",
      "Training with 2 epochs...\n",
      "Training with 3 epochs...\n",
      "Training with 4 epochs...\n",
      "Training with 5 epochs...\n",
      "Training with 6 epochs...\n",
      "Training with 7 epochs...\n",
      "Training with 8 epochs...\n",
      "Training with 9 epochs...\n",
      "Training with 10 epochs...\n",
      "Training with 11 epochs...\n",
      "Training with 12 epochs...\n",
      "Training with 13 epochs...\n",
      "Training with 14 epochs...\n",
      "Training with 15 epochs...\n",
      "Training with 16 epochs...\n",
      "Training with 17 epochs...\n",
      "Training with 18 epochs...\n",
      "Training with 19 epochs...\n",
      "Training with 20 epochs...\n"
     ]
    }
   ],
   "source": [
    "shutil.rmtree(OUTDIR, ignore_errors = True) # start fresh each time\n",
    "\n",
    "train_dl_loss = []\n",
    "valid_dl_loss = []\n",
    "for e in epochs:\n",
    "    print(\"Training with %d epochs...\" % e)\n",
    "    t, v = train_for_epochs_dl(e)\n",
    "    train_dl_loss.append(t)\n",
    "    valid_dl_loss.append(v)"
   ]
  },
  {
   "cell_type": "code",
   "execution_count": 29,
   "metadata": {},
   "outputs": [
    {
     "data": {
      "image/png": "[encoded data removed]",
      "text/plain": [
       "<Figure size 720x504 with 1 Axes>"
      ]
     },
     "metadata": {
      "needs_background": "light"
     },
     "output_type": "display_data"
    }
   ],
   "source": [
    "plt.figure(figsize=(10,7))\n",
    "plt.plot(epochs, train_loss, label='Training (linear)')\n",
    "plt.plot(epochs, valid_loss, label='Validation (linear)')\n",
    "plt.plot(epochs, train_dl_loss, label='Training (DL)')\n",
    "plt.plot(epochs, valid_dl_loss, label='Validation (DL)')\n",
    "plt.legend()\n",
    "plt.xlabel('Epochs')\n",
    "plt.ylabel('Loss')\n",
    "plt.grid()"
   ]
  },
  {
   "cell_type": "markdown",
   "metadata": {},
   "source": [
    "Is this new model better? Why does not the linear model change with the number of epochs?\n",
    "\n",
    "What would you do next to improve the Deep Learning model?\n",
    "* Possible answers: increase the number of epochs, maybe try a more complex model. Any other hyperparam?"
   ]
  },
  {
   "cell_type": "markdown",
   "metadata": {},
   "source": [
    "Let's try with 150 epochs, and see if we can beat the training and validation loss"
   ]
  },
  {
   "cell_type": "code",
   "execution_count": 30,
   "metadata": {
    "collapsed": true
   },
   "outputs": [],
   "source": [
    "tf.logging.set_verbosity(tf.logging.ERROR)\n",
    "\n",
    "# Let's recalculate the model, just in case we are reusing the wrong cache\n",
    "tf_train = pandas2tf(df_train, 1)\n",
    "tf_valid = pandas2tf(df_valid, 1)\n",
    "tf_test = pandas2tf(df_test, 1)\n",
    "\n",
    "shutil.rmtree(OUTDIR, ignore_errors = True) # start fresh each time\n",
    "\n",
    "linear_model = tf.estimator.LinearRegressor(feature_columns=feature_cols, model_dir=OUTDIR)"
   ]
  },
  {
   "cell_type": "code",
   "execution_count": 31,
   "metadata": {},
   "outputs": [
    {
     "data": {
      "text/plain": [
       "{'average_loss': 229.86603,\n",
       " 'label/mean': 11.403186,\n",
       " 'loss': 29062.201,\n",
       " 'prediction/mean': 0.0,\n",
       " 'global_step': 0}"
      ]
     },
     "execution_count": 31,
     "metadata": {},
     "output_type": "execute_result"
    }
   ],
   "source": [
    "# Linear benchmark (train)\n",
    "linear_model.evaluate(tf_train)"
   ]
  },
  {
   "cell_type": "code",
   "execution_count": 32,
   "metadata": {},
   "outputs": [
    {
     "data": {
      "text/plain": [
       "{'average_loss': 223.16864,\n",
       " 'label/mean': 11.340872,\n",
       " 'loss': 26969.072,\n",
       " 'prediction/mean': 0.0,\n",
       " 'global_step': 0}"
      ]
     },
     "execution_count": 32,
     "metadata": {},
     "output_type": "execute_result"
    }
   ],
   "source": [
    "# Linear benchmark (validation)\n",
    "linear_model.evaluate(tf_valid)"
   ]
  },
  {
   "cell_type": "code",
   "execution_count": 33,
   "metadata": {},
   "outputs": [
    {
     "data": {
      "text/plain": [
       "<tensorflow.python.estimator.canned.dnn.DNNRegressor at 0x102ad710>"
      ]
     },
     "execution_count": 33,
     "metadata": {},
     "output_type": "execute_result"
    }
   ],
   "source": [
    "shutil.rmtree(OUTDIR, ignore_errors = True) # start fresh each time\n",
    "\n",
    "nepochs = 70\n",
    "tf_train = pandas2tf(df_train, nepochs)\n",
    "tf_valid = pandas2tf(df_valid, nepochs)\n",
    "  \n",
    "dl_model = tf.estimator.DNNRegressor(hidden_units=[32, 8, 2], feature_columns=feature_cols, model_dir=OUTDIR)\n",
    "dl_model.train(tf_train) "
   ]
  },
  {
   "cell_type": "code",
   "execution_count": 35,
   "metadata": {},
   "outputs": [
    {
     "data": {
      "text/plain": [
       "{'average_loss': 99.84115,\n",
       " 'label/mean': 11.403187,\n",
       " 'loss': 12777.228,\n",
       " 'prediction/mean': 11.3383,\n",
       " 'global_step': 4011}"
      ]
     },
     "execution_count": 35,
     "metadata": {},
     "output_type": "execute_result"
    }
   ],
   "source": [
    "dl_model.evaluate(tf_train)"
   ]
  },
  {
   "cell_type": "code",
   "execution_count": 36,
   "metadata": {},
   "outputs": [
    {
     "data": {
      "text/plain": [
       "{'average_loss': 94.46721,\n",
       " 'label/mean': 11.340869,\n",
       " 'loss': 12079.72,\n",
       " 'prediction/mean': 11.339192,\n",
       " 'global_step': 4011}"
      ]
     },
     "execution_count": 36,
     "metadata": {},
     "output_type": "execute_result"
    }
   ],
   "source": [
    "dl_model.evaluate(tf_valid)"
   ]
  },
  {
   "cell_type": "markdown",
   "metadata": {},
   "source": [
    "## Final decision about the models\n",
    "\n",
    "So far, we have been ignoring the test set. We have used the validation dataset to change the hyperparameters of the model. It is now the turn to use the test set to finally decide which model is better: the linear regressor or the neural network.\n",
    "\n",
    "For this, we can retrain the models using both the train and validation sets, with the hyperparameters that we have already decided. Then we will evaluate both models using only the test set, and we will find out which one is better predicting the test set, that is, a set of data that has not been used in any way to tune the model (the validation set has been used to tune the hyperparams, so somehow the validation set info is already included in the model)."
   ]
  },
  {
   "cell_type": "code",
   "execution_count": 38,
   "metadata": {},
   "outputs": [
    {
     "data": {
      "text/plain": [
       "{'average_loss': 90.004105,\n",
       " 'label/mean': 11.104376,\n",
       " 'loss': 10883.573,\n",
       " 'prediction/mean': 10.99129,\n",
       " 'global_step': 70}"
      ]
     },
     "execution_count": 38,
     "metadata": {},
     "output_type": "execute_result"
    }
   ],
   "source": [
    "df_train2 = df_train.append(df_valid)\n",
    "\n",
    "#tf_train = pandas2tf(df_train, 1)\n",
    "#tf_valid = pandas2tf(df_valid, 1)\n",
    "tf_train2 = pandas2tf(df_train2, 1)\n",
    "tf_test = pandas2tf(df_test, 1)\n",
    "\n",
    "shutil.rmtree(OUTDIR, ignore_errors = True) # start fresh each time\n",
    "\n",
    "linear_model = tf.estimator.LinearRegressor(feature_columns=feature_cols, model_dir=OUTDIR)\n",
    "linear_model.train(tf_train2)\n",
    "linear_model.evaluate(tf_test)"
   ]
  },
  {
   "cell_type": "code",
   "execution_count": 39,
   "metadata": {},
   "outputs": [
    {
     "data": {
      "text/plain": [
       "{'average_loss': 89.97741,\n",
       " 'label/mean': 11.10438,\n",
       " 'loss': 11512.031,\n",
       " 'prediction/mean': 11.161804,\n",
       " 'global_step': 10435}"
      ]
     },
     "execution_count": 39,
     "metadata": {},
     "output_type": "execute_result"
    }
   ],
   "source": [
    "#tf_train = pandas2tf(df_train, 150)\n",
    "#tf_valid = pandas2tf(df_valid, 150)\n",
    "tf_train2 = pandas2tf(df_train2, 150)\n",
    "tf_test = pandas2tf(df_test, 150)\n",
    "\n",
    "shutil.rmtree(OUTDIR, ignore_errors = True) # start fresh each time\n",
    "dl_model = tf.estimator.DNNRegressor(hidden_units=[32, 8, 2], feature_columns=feature_cols, model_dir=OUTDIR)\n",
    "dl_model.train(tf_train2)\n",
    "dl_model.evaluate(tf_test)"
   ]
  },
  {
   "cell_type": "markdown",
   "metadata": {},
   "source": [
    "So the Deep Learning model can predict the taxi fare with a lower MSRE"
   ]
  }
 ],
 "metadata": {
  "kernelspec": {
   "display_name": "Python (dl_win)",
   "language": "python",
   "name": "dl_win"
  },
  "language_info": {
   "codemirror_mode": {
    "name": "ipython",
    "version": 3
   },
   "file_extension": ".py",
   "mimetype": "text/x-python",
   "name": "python",
   "nbconvert_exporter": "python",
   "pygments_lexer": "ipython3",
   "version": "3.6.6"
  }
 },
 "nbformat": 4,
 "nbformat_minor": 2
}
