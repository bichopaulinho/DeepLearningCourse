{
 "cells": [
  {
   "cell_type": "markdown",
   "metadata": {},
   "source": [
    "# Deep Reinforcement Learning"
   ]
  },
  {
   "cell_type": "markdown",
   "metadata": {},
   "source": [
    "Deep Reinforcement Learning (DRL) -- i.e., the application of deep neural networks into the Reinforcement Learning (RL) framework -- has recently attracted a lot of attention in the machine learning community due to the significant amount of progress that has been made in the past few years. For instance, DRL is the theory behind AlphaGo, the program which was able to defeat world champion Lee Sedol in the ancient game of Go; or the theory that\n",
    "allows computers learning to play ATARI games at a superhuman level! \n",
    "\n",
    "In this class we will learn about DRL, first exploring two of the most popular classes of reinforcement learning algorithms -- Q Learning, a value iteration method, and the Vanilla Policy Gradient, a method to directly optimize in the action space -- and then focusing in the Deep Q-Network algorithm."
   ]
  },
  {
   "cell_type": "code",
   "execution_count": 1,
   "metadata": {},
   "outputs": [
    {
     "data": {
      "image/jpeg": "[encoded data removed]",
      "text/html": [
       "\n",
       "        <iframe\n",
       "            width=\"400\"\n",
       "            height=\"300\"\n",
       "            src=\"https://www.youtube.com/embed/W_gxLKSsSIE?start=22&autoplay=0&theme=light&color=red\"\n",
       "            frameborder=\"0\"\n",
       "            allowfullscreen\n",
       "        ></iframe>\n",
       "        "
      ],
      "text/plain": [
       "<IPython.lib.display.YouTubeVideo at 0x531f6d8>"
      ]
     },
     "execution_count": 1,
     "metadata": {},
     "output_type": "execute_result"
    }
   ],
   "source": [
    "from IPython.display import YouTubeVideo\n",
    "from datetime import timedelta\n",
    "\n",
    "start = int(timedelta(seconds=22).total_seconds())\n",
    "\n",
    "YouTubeVideo(\"W_gxLKSsSIE\", start=start, autoplay=0, theme=\"light\", color=\"red\")"
   ]
  },
  {
   "cell_type": "markdown",
   "metadata": {},
   "source": [
    "## Introduction to Reinforcement Learning"
   ]
  },
  {
   "attachments": {
    "image.png": {
     "image/png": "[encoded data removed]"
    }
   },
   "cell_type": "markdown",
   "metadata": {},
   "source": [
    "Reinforcement Learning is an area of machine learning that consists of learning from interaction how to behave in order to achieve a goal. An agent -- or learner -- must discover by trial-and-error which actions are the best in terms of the rewards that it receives and can receive in the future from the environmet.\n",
    "\n",
    "![image.png](attachment:image.png)\n",
    "\n",
    "\n"
   ]
  },
  {
   "cell_type": "markdown",
   "metadata": {},
   "source": [
    "\n",
    "A popular example of reinforcement learning is a chess engine. Here, the\n",
    "agent decides upon a series of moves depending on the state of the board (the environment), and the reward can be defined as win or lose at the end of the game.\n",
    "\n",
    "A maze is another good example. In this case\n",
    "\n",
    "• The agent is the intelligent program\n",
    "\n",
    "• The environment is the maze\n",
    "\n",
    "• The state is the place in the maze where the agent is\n",
    "\n",
    "• The action is the move we take to move to the next state\n",
    "\n",
    "• The reward is the points associated with reaching a particular state. It can be positive, negative, or zero\n"
   ]
  },
  {
   "cell_type": "markdown",
   "metadata": {},
   "source": [
    "![](https://www.samyzaf.com/ML/rl/images/dcq.gif)\n",
    "Fig. Maze example"
   ]
  },
  {
   "cell_type": "markdown",
   "metadata": {},
   "source": [
    "### Exploration vs Exploitation dilemma"
   ]
  },
  {
   "cell_type": "markdown",
   "metadata": {},
   "source": [
    "\"_The general lesson learnt in reinforcement learning is that neither pure exploitation nor pure exploration are effective: they should be blended and, for effective learning, an optimal tradeoff must be found._\", by M. Vergassola, E. Villermaux, B. I. Shraiman"
   ]
  },
  {
   "cell_type": "code",
   "execution_count": 2,
   "metadata": {},
   "outputs": [
    {
     "data": {
      "text/html": [
       "\n",
       "<video width=\"520\" height=\"380\" controls>\n",
       "  <source src=\"../imgs/filmshr.mp4\" type=\"video/mp4\">\n",
       "</video>\n"
      ],
      "text/plain": [
       "<IPython.core.display.HTML object>"
      ]
     },
     "execution_count": 2,
     "metadata": {},
     "output_type": "execute_result"
    }
   ],
   "source": [
    "from IPython.display import HTML\n",
    "\n",
    "HTML(\"\"\"\n",
    "<video width=\"520\" height=\"380\" controls>\n",
    "  <source src=\"../imgs/filmshr.mp4\" type=\"video/mp4\">\n",
    "</video>\n",
    "\"\"\")"
   ]
  },
  {
   "cell_type": "markdown",
   "metadata": {},
   "source": [
    "__Multi-armed Bandit problem.__ Imagine you are in a casino facing multiple slot machines and each is configured with an unknown probability of how likely you can get a reward at one play. \n",
    "\n",
    "What is the best strategy to achieve highest long-term rewards?\n",
    "\n"
   ]
  },
  {
   "cell_type": "code",
   "execution_count": 24,
   "metadata": {},
   "outputs": [],
   "source": [
    "import numpy as np\n",
    "\n",
    "class BernoulliArm():\n",
    "    # p probabilidad de exito\n",
    "    def __init__(self, p):\n",
    "        self.p = p\n",
    "    \n",
    "    # apuesta\n",
    "    def draw(self):\n",
    "        if np.random.random() > self.p:\n",
    "            return 0.0\n",
    "        else:\n",
    "            return 1.0"
   ]
  },
  {
   "cell_type": "code",
   "execution_count": 25,
   "metadata": {},
   "outputs": [],
   "source": [
    "arm1 = BernoulliArm(0.5)\n",
    "arm2 = BernoulliArm(0.4)\n",
    "arm3 = BernoulliArm(0.3)\n",
    "arms = [arm1, arm2, arm3]\n",
    "n_arms = 3"
   ]
  },
  {
   "cell_type": "code",
   "execution_count": 26,
   "metadata": {},
   "outputs": [
    {
     "data": {
      "text/plain": [
       "0.0"
      ]
     },
     "execution_count": 26,
     "metadata": {},
     "output_type": "execute_result"
    }
   ],
   "source": [
    "arm1.draw()"
   ]
  },
  {
   "cell_type": "code",
   "execution_count": 27,
   "metadata": {},
   "outputs": [],
   "source": [
    "%matplotlib inline\n",
    "import matplotlib.pyplot as plt"
   ]
  },
  {
   "cell_type": "code",
   "execution_count": 36,
   "metadata": {},
   "outputs": [],
   "source": [
    "class EpsilonGreedy():\n",
    "    def __init__(self, epsilon):\n",
    "        self.epsilon = epsilon\n",
    "        self.counts = None\n",
    "        self.values = None\n",
    "    \n",
    "    def initialize(self, a_arms):\n",
    "        self.counts = [0 for arm in range(n_arms)]\n",
    "        self.values = [0 for arm in range(n_arms)]\n",
    "        \n",
    "    def select_arm(self):\n",
    "        # aplica la politica epsilon greedy\n",
    "        if np.random.random() > self.epsilon:\n",
    "            return np.argmax(self.values)\n",
    "        else:\n",
    "            return np.random.randint(len(self.values))\n",
    "        \n",
    "    #actualiza las estimaciones de probabilidad de cada maquina segun la maquina elegida\n",
    "    def update(self, chosen_arm, reward):\n",
    "        self.counts[chosen_arm] += 1\n",
    "        n = self.counts[chosen_arm]\n",
    "        value = self.values[chosen_arm]\n",
    "        # suma de las veces que hemos jugado / num de intentos (partiendo del estado anterior)\n",
    "        new_value = (n-1) * value / float(n)  + reward/float(n)# recompensa acumulada hasta este instante + recompensa\n",
    "        self.values[chosen_arm] = new_value\n",
    "    "
   ]
  },
  {
   "cell_type": "code",
   "execution_count": 46,
   "metadata": {},
   "outputs": [],
   "source": [
    "# varios jugadores con diferentes tacticas\n",
    "bandit1 = EpsilonGreedy(0.1)\n",
    "bandit2 = EpsilonGreedy(0.0)\n",
    "bandit3 = EpsilonGreedy(0.4)\n",
    "bandit4 = EpsilonGreedy(1.0)\n",
    "\n",
    "bandits = [bandit1,bandit2,bandit3,bandit4 ]\n",
    "\n",
    "for bandit in bandits:\n",
    "    bandit.initialize(n_arms)\n",
    "    "
   ]
  },
  {
   "cell_type": "code",
   "execution_count": 47,
   "metadata": {},
   "outputs": [
    {
     "name": "stdout",
     "output_type": "stream",
     "text": [
      "Counts of bandit 0 in arm1 = 771, in arm2 = 188 in arm3 = 41\n",
      "Counts of bandit 1 in arm1 = 1000, in arm2 = 0 in arm3 = 0\n",
      "Counts of bandit 2 in arm1 = 710, in arm2 = 135 in arm3 = 155\n",
      "Counts of bandit 3 in arm1 = 329, in arm2 = 319 in arm3 = 352\n"
     ]
    }
   ],
   "source": [
    "iterations = 1000\n",
    "\n",
    "rewards = np.zeros((len(bandits), iterations))\n",
    "\n",
    "for t in range(iterations):\n",
    "    for i, bandit in enumerate(bandits):\n",
    "        #juega a una maquina\n",
    "        chosen_arm = bandit.select_arm()\n",
    "        # reward\n",
    "        reward = arms[chosen_arm].draw()\n",
    "        rewards[i][t] += reward\n",
    "        # update\n",
    "        bandit.update(chosen_arm, reward)\n",
    "\n",
    "#show results\n",
    "for i, bandit in enumerate(bandits):\n",
    "    print(\"Counts of bandit %d in arm1 = %d, in arm2 = %d in arm3 = %d\" % (i,bandit.counts[0], bandit.counts[1], bandit.counts[2]))"
   ]
  },
  {
   "cell_type": "code",
   "execution_count": 48,
   "metadata": {},
   "outputs": [
    {
     "data": {
      "text/plain": [
       "<matplotlib.legend.Legend at 0x8a05eb8>"
      ]
     },
     "execution_count": 48,
     "metadata": {},
     "output_type": "execute_result"
    },
    {
     "data": {
      "image/png": "[encoded data removed]",
      "text/plain": [
       "<Figure size 432x288 with 1 Axes>"
      ]
     },
     "metadata": {
      "needs_background": "light"
     },
     "output_type": "display_data"
    }
   ],
   "source": [
    "plt.plot(range(iterations), np.cumsum(rewards[0, :]), label = 'epsilon=0.1' )\n",
    "plt.plot(range(iterations), np.cumsum(rewards[1, :]), label = 'epsilon=0.0' )\n",
    "plt.plot(range(iterations), np.cumsum(rewards[2, :]), label = 'epsilon=0.4' )\n",
    "plt.plot(range(iterations), np.cumsum(rewards[3, :]), label = 'epsilon=1.0' )\n",
    "plt.legend(loc='best')"
   ]
  },
  {
   "cell_type": "code",
   "execution_count": null,
   "metadata": {},
   "outputs": [],
   "source": [
    "EL parámetro epsilon ha de decrecer con el tiempo (primero somos explorativos y luego explotativos)"
   ]
  },
  {
   "cell_type": "markdown",
   "metadata": {},
   "source": [
    "### Reinforcement Learning Elements\n",
    "\n",
    "A reinforcement learning system should have the following elements in order to be defined: \n",
    "\n",
    "- State: it defines “how the environment is” at a particular time. \n",
    "\n",
    "- Policy: gives the behaviour of the agent at a given time. The policy maps states $S$ of the environment to actions $A$ to be taken. \n",
    "\n",
    "$$ \\pi (S): S \\rightarrow A $$\n",
    "\n",
    "- Model of the environment (optional). It allows inferences to be made about how the environment will behave.\n",
    "Methods for solving reinforcement learning problems when models are available\n",
    "are called model-based methods. In other cases, the method is said to be model-free (trial-and-error learners).\n",
    "\n",
    "We assume from now on the MDP property in our experiments, i.e., the future only depends on the current state, not the history.\n",
    "\n",
    "- Reward signal: It is the feedback that the environment sends to the agent after executing an action. The goal in RL is to maximize the total long run reward\n",
    "\n",
    "- Value function: specifies what is good in the long run, i.e., predicts the amount of long-term reward based on the selected action in the current state. \n",
    "\n",
    "If the sequence of rewards received after time step t is denoted\n",
    "$r_{t+1}$, $r_{t+2}$, $r_{t+3}$,..., then the expected return, denoted $G_t$, is\n",
    "defined as\n",
    "\n",
    "$$G_t = r_{t+1} + \\gamma r_{t+2} + \\gamma^2 r_{t+3} + ··· + r_T = \\sum_{k=0}^\\infty \\gamma^k r_{t+k+1}$$\n",
    "\n",
    "where the discount rate $\\gamma$ determines the present value of future rewards (it is worse as k grows).\n",
    "\n",
    "Assuming the MDP property, the value function of a state $s$ under a policy $\\pi$, denoted $V_{\\pi}(s)$, can be then computed as the expected return\n",
    "\n",
    "$$V_{\\pi}(s) = E_{\\pi} \\{G_t | s_t = s\\} = E_{\\pi}\\left \\{\\sum_{k=0}^\\infty \\gamma^k r_{t+k+1} | s_t = s\\right \\}$$\n",
    "\n",
    "where $E_{\\pi}\\{\\}$ denotes the expected value of a random variable given that the agent follows\n",
    "policy $\\pi$, and $t$ is any time step. We call the function $V_{\\pi}$ the state-value function for policy $\\pi$.\n",
    "\n",
    "In the same way, we can define the action-value function $Q_{\\pi}(s,a)$ as the value of taking action $a$ in state $s$ under a policy $\\pi$:\n",
    "\n",
    "$$Q_{\\pi}(s, a) = E_{\\pi} \\{G_t | s_t = s, a_t = a\\} = E_{\\pi}\\left \\{\\sum_{k=0}^\\infty \\gamma^k r_{t+k+1} | s_t = s, a_t = a\\right \\}$$\n",
    "\n",
    "Most of the reinforcement learning methods involve the estimation of these value functions, as we will see later in the Q-Learning section.\n"
   ]
  },
  {
   "cell_type": "markdown",
   "metadata": {},
   "source": [
    "![](../imgs/gridworld.png)"
   ]
  },
  {
   "cell_type": "markdown",
   "metadata": {},
   "source": [
    "\n",
    "But before, let's see how to easily simulate a wide set of environments with the help of  the OpenAI Gym toolkit."
   ]
  },
  {
   "cell_type": "markdown",
   "metadata": {},
   "source": [
    "## OpenGym"
   ]
  },
  {
   "cell_type": "markdown",
   "metadata": {},
   "source": [
    "OpenAI Gym is a Python-based framework that provides an environment to simulate many popular games in order to implement and practice the reinforcement learning algorithms.\n",
    "\n",
    "All Gym environments expose a common interface, allowing you:\n",
    "- to write general algorithms and \n",
    "- to compare them easily\n",
    "\n",
    "Moreover, Gym is compatible with any numerical computation library, such as TensorFlow or Theano.\n",
    "\n",
    "Next lines cover the basics to set and run a Gym environment"
   ]
  },
  {
   "cell_type": "markdown",
   "metadata": {},
   "source": [
    "### Basics"
   ]
  },
  {
   "cell_type": "markdown",
   "metadata": {},
   "source": [
    "To get the list of all the available environments in OpenAI Gym, use the following piece of code"
   ]
  },
  {
   "cell_type": "code",
   "execution_count": 54,
   "metadata": {},
   "outputs": [],
   "source": [
    "# Import libraries\n",
    "import gym\n",
    "import matplotlib.animation as anm\n",
    "from matplotlib import rc\n",
    "rc('animation', html='html5')\n",
    "#rc('animation', ffmpeg_path='/usr/bin/ffmpeg')\n",
    "\n",
    "from matplotlib import animation\n",
    "from JSAnimation.IPython_display import display_animation"
   ]
  },
  {
   "cell_type": "code",
   "execution_count": 55,
   "metadata": {},
   "outputs": [
    {
     "name": "stdout",
     "output_type": "stream",
     "text": [
      "EnvSpec(GravitarNoFrameskip-v0)\n",
      "EnvSpec(GravitarDeterministic-v0)\n",
      "EnvSpec(Frostbite-ramDeterministic-v0)\n",
      "EnvSpec(Boxing-v4)\n",
      "EnvSpec(PrivateEye-v0)\n",
      "EnvSpec(CrazyClimber-ramNoFrameskip-v0)\n",
      "EnvSpec(Boxing-v0)\n",
      "EnvSpec(ZaxxonDeterministic-v0)\n",
      "EnvSpec(Frostbite-ram-v4)\n",
      "EnvSpec(VentureNoFrameskip-v4)\n",
      "EnvSpec(SeaquestDeterministic-v0)\n",
      "EnvSpec(Breakout-ramDeterministic-v0)\n",
      "EnvSpec(MontezumaRevengeDeterministic-v4)\n",
      "EnvSpec(WizardOfWor-ramDeterministic-v0)\n",
      "EnvSpec(AirRaid-ram-v0)\n",
      "EnvSpec(Frostbite-ramDeterministic-v0)\n",
      "EnvSpec(Jamesbond-ramNoFrameskip-v4)\n",
      "EnvSpec(DoubleDunk-v0)\n",
      "EnvSpec(NameThisGame-ramDeterministic-v0)\n",
      "EnvSpec(AtlantisNoFrameskip-v0)\n"
     ]
    }
   ],
   "source": [
    "all_env = list(gym.envs.registry.all())\n",
    "for e in np.random.choice(list(all_env), 20):\n",
    "    print(e)"
   ]
  },
  {
   "cell_type": "markdown",
   "metadata": {},
   "source": [
    "In OpenAI Gym, each environment is represented by an env object. Each env object contains the following main functions:\n",
    " - make: creates the environment by passing an id string (environment name).\n"
   ]
  },
  {
   "cell_type": "code",
   "execution_count": 57,
   "metadata": {},
   "outputs": [
    {
     "name": "stderr",
     "output_type": "stream",
     "text": [
      "[2019-01-18 18:26:02,043] Making new env: GravitarNoFrameskip-v0\n"
     ]
    },
    {
     "ename": "DependencyNotInstalled",
     "evalue": "No module named 'atari_py'. (HINT: you can install Atari dependencies by running 'pip install gym[atari]'.)",
     "output_type": "error",
     "traceback": [
      "\u001b[1;31m---------------------------------------------------------------------------\u001b[0m",
      "\u001b[1;31mModuleNotFoundError\u001b[0m                       Traceback (most recent call last)",
      "\u001b[1;32mC:\\ProgramData\\Anaconda3\\envs\\dl_win\\lib\\site-packages\\gym\\envs\\atari\\atari_env.py\u001b[0m in \u001b[0;36m<module>\u001b[1;34m\u001b[0m\n\u001b[0;32m      8\u001b[0m \u001b[1;32mtry\u001b[0m\u001b[1;33m:\u001b[0m\u001b[1;33m\u001b[0m\u001b[0m\n\u001b[1;32m----> 9\u001b[1;33m     \u001b[1;32mimport\u001b[0m \u001b[0matari_py\u001b[0m\u001b[1;33m\u001b[0m\u001b[0m\n\u001b[0m\u001b[0;32m     10\u001b[0m \u001b[1;32mexcept\u001b[0m \u001b[0mImportError\u001b[0m \u001b[1;32mas\u001b[0m \u001b[0me\u001b[0m\u001b[1;33m:\u001b[0m\u001b[1;33m\u001b[0m\u001b[0m\n",
      "\u001b[1;31mModuleNotFoundError\u001b[0m: No module named 'atari_py'",
      "\nDuring handling of the above exception, another exception occurred:\n",
      "\u001b[1;31mDependencyNotInstalled\u001b[0m                    Traceback (most recent call last)",
      "\u001b[1;32m<ipython-input-57-3b0474c7728f>\u001b[0m in \u001b[0;36m<module>\u001b[1;34m\u001b[0m\n\u001b[1;32m----> 1\u001b[1;33m \u001b[0menv\u001b[0m \u001b[1;33m=\u001b[0m \u001b[0mgym\u001b[0m\u001b[1;33m.\u001b[0m\u001b[0mmake\u001b[0m\u001b[1;33m(\u001b[0m\u001b[1;34m'GravitarNoFrameskip-v0'\u001b[0m\u001b[1;33m)\u001b[0m\u001b[1;33m\u001b[0m\u001b[0m\n\u001b[0m",
      "\u001b[1;32mC:\\ProgramData\\Anaconda3\\envs\\dl_win\\lib\\site-packages\\gym\\envs\\registration.py\u001b[0m in \u001b[0;36mmake\u001b[1;34m(id)\u001b[0m\n\u001b[0;32m    162\u001b[0m \u001b[1;33m\u001b[0m\u001b[0m\n\u001b[0;32m    163\u001b[0m \u001b[1;32mdef\u001b[0m \u001b[0mmake\u001b[0m\u001b[1;33m(\u001b[0m\u001b[0mid\u001b[0m\u001b[1;33m)\u001b[0m\u001b[1;33m:\u001b[0m\u001b[1;33m\u001b[0m\u001b[0m\n\u001b[1;32m--> 164\u001b[1;33m     \u001b[1;32mreturn\u001b[0m \u001b[0mregistry\u001b[0m\u001b[1;33m.\u001b[0m\u001b[0mmake\u001b[0m\u001b[1;33m(\u001b[0m\u001b[0mid\u001b[0m\u001b[1;33m)\u001b[0m\u001b[1;33m\u001b[0m\u001b[0m\n\u001b[0m\u001b[0;32m    165\u001b[0m \u001b[1;33m\u001b[0m\u001b[0m\n\u001b[0;32m    166\u001b[0m \u001b[1;32mdef\u001b[0m \u001b[0mspec\u001b[0m\u001b[1;33m(\u001b[0m\u001b[0mid\u001b[0m\u001b[1;33m)\u001b[0m\u001b[1;33m:\u001b[0m\u001b[1;33m\u001b[0m\u001b[0m\n",
      "\u001b[1;32mC:\\ProgramData\\Anaconda3\\envs\\dl_win\\lib\\site-packages\\gym\\envs\\registration.py\u001b[0m in \u001b[0;36mmake\u001b[1;34m(self, id)\u001b[0m\n\u001b[0;32m    120\u001b[0m         \u001b[0mlogger\u001b[0m\u001b[1;33m.\u001b[0m\u001b[0minfo\u001b[0m\u001b[1;33m(\u001b[0m\u001b[1;34m'Making new env: %s'\u001b[0m\u001b[1;33m,\u001b[0m \u001b[0mid\u001b[0m\u001b[1;33m)\u001b[0m\u001b[1;33m\u001b[0m\u001b[0m\n\u001b[0;32m    121\u001b[0m         \u001b[0mspec\u001b[0m \u001b[1;33m=\u001b[0m \u001b[0mself\u001b[0m\u001b[1;33m.\u001b[0m\u001b[0mspec\u001b[0m\u001b[1;33m(\u001b[0m\u001b[0mid\u001b[0m\u001b[1;33m)\u001b[0m\u001b[1;33m\u001b[0m\u001b[0m\n\u001b[1;32m--> 122\u001b[1;33m         \u001b[0menv\u001b[0m \u001b[1;33m=\u001b[0m \u001b[0mspec\u001b[0m\u001b[1;33m.\u001b[0m\u001b[0mmake\u001b[0m\u001b[1;33m(\u001b[0m\u001b[1;33m)\u001b[0m\u001b[1;33m\u001b[0m\u001b[0m\n\u001b[0m\u001b[0;32m    123\u001b[0m         \u001b[1;32mif\u001b[0m \u001b[1;33m(\u001b[0m\u001b[0menv\u001b[0m\u001b[1;33m.\u001b[0m\u001b[0mspec\u001b[0m\u001b[1;33m.\u001b[0m\u001b[0mtimestep_limit\u001b[0m \u001b[1;32mis\u001b[0m \u001b[1;32mnot\u001b[0m \u001b[1;32mNone\u001b[0m\u001b[1;33m)\u001b[0m \u001b[1;32mand\u001b[0m \u001b[1;32mnot\u001b[0m \u001b[0mspec\u001b[0m\u001b[1;33m.\u001b[0m\u001b[0mtags\u001b[0m\u001b[1;33m.\u001b[0m\u001b[0mget\u001b[0m\u001b[1;33m(\u001b[0m\u001b[1;34m'vnc'\u001b[0m\u001b[1;33m)\u001b[0m\u001b[1;33m:\u001b[0m\u001b[1;33m\u001b[0m\u001b[0m\n\u001b[0;32m    124\u001b[0m             \u001b[1;32mfrom\u001b[0m \u001b[0mgym\u001b[0m\u001b[1;33m.\u001b[0m\u001b[0mwrappers\u001b[0m\u001b[1;33m.\u001b[0m\u001b[0mtime_limit\u001b[0m \u001b[1;32mimport\u001b[0m \u001b[0mTimeLimit\u001b[0m\u001b[1;33m\u001b[0m\u001b[0m\n",
      "\u001b[1;32mC:\\ProgramData\\Anaconda3\\envs\\dl_win\\lib\\site-packages\\gym\\envs\\registration.py\u001b[0m in \u001b[0;36mmake\u001b[1;34m(self)\u001b[0m\n\u001b[0;32m     86\u001b[0m             \u001b[0menv\u001b[0m \u001b[1;33m=\u001b[0m \u001b[0mself\u001b[0m\u001b[1;33m.\u001b[0m\u001b[0m_entry_point\u001b[0m\u001b[1;33m(\u001b[0m\u001b[1;33m)\u001b[0m\u001b[1;33m\u001b[0m\u001b[0m\n\u001b[0;32m     87\u001b[0m         \u001b[1;32melse\u001b[0m\u001b[1;33m:\u001b[0m\u001b[1;33m\u001b[0m\u001b[0m\n\u001b[1;32m---> 88\u001b[1;33m             \u001b[0mcls\u001b[0m \u001b[1;33m=\u001b[0m \u001b[0mload\u001b[0m\u001b[1;33m(\u001b[0m\u001b[0mself\u001b[0m\u001b[1;33m.\u001b[0m\u001b[0m_entry_point\u001b[0m\u001b[1;33m)\u001b[0m\u001b[1;33m\u001b[0m\u001b[0m\n\u001b[0m\u001b[0;32m     89\u001b[0m             \u001b[0menv\u001b[0m \u001b[1;33m=\u001b[0m \u001b[0mcls\u001b[0m\u001b[1;33m(\u001b[0m\u001b[1;33m**\u001b[0m\u001b[0mself\u001b[0m\u001b[1;33m.\u001b[0m\u001b[0m_kwargs\u001b[0m\u001b[1;33m)\u001b[0m\u001b[1;33m\u001b[0m\u001b[0m\n\u001b[0;32m     90\u001b[0m \u001b[1;33m\u001b[0m\u001b[0m\n",
      "\u001b[1;32mC:\\ProgramData\\Anaconda3\\envs\\dl_win\\lib\\site-packages\\gym\\envs\\registration.py\u001b[0m in \u001b[0;36mload\u001b[1;34m(name)\u001b[0m\n\u001b[0;32m     15\u001b[0m \u001b[1;32mdef\u001b[0m \u001b[0mload\u001b[0m\u001b[1;33m(\u001b[0m\u001b[0mname\u001b[0m\u001b[1;33m)\u001b[0m\u001b[1;33m:\u001b[0m\u001b[1;33m\u001b[0m\u001b[0m\n\u001b[0;32m     16\u001b[0m     \u001b[0mentry_point\u001b[0m \u001b[1;33m=\u001b[0m \u001b[0mpkg_resources\u001b[0m\u001b[1;33m.\u001b[0m\u001b[0mEntryPoint\u001b[0m\u001b[1;33m.\u001b[0m\u001b[0mparse\u001b[0m\u001b[1;33m(\u001b[0m\u001b[1;34m'x={}'\u001b[0m\u001b[1;33m.\u001b[0m\u001b[0mformat\u001b[0m\u001b[1;33m(\u001b[0m\u001b[0mname\u001b[0m\u001b[1;33m)\u001b[0m\u001b[1;33m)\u001b[0m\u001b[1;33m\u001b[0m\u001b[0m\n\u001b[1;32m---> 17\u001b[1;33m     \u001b[0mresult\u001b[0m \u001b[1;33m=\u001b[0m \u001b[0mentry_point\u001b[0m\u001b[1;33m.\u001b[0m\u001b[0mload\u001b[0m\u001b[1;33m(\u001b[0m\u001b[1;32mFalse\u001b[0m\u001b[1;33m)\u001b[0m\u001b[1;33m\u001b[0m\u001b[0m\n\u001b[0m\u001b[0;32m     18\u001b[0m     \u001b[1;32mreturn\u001b[0m \u001b[0mresult\u001b[0m\u001b[1;33m\u001b[0m\u001b[0m\n\u001b[0;32m     19\u001b[0m \u001b[1;33m\u001b[0m\u001b[0m\n",
      "\u001b[1;32mC:\\ProgramData\\Anaconda3\\envs\\dl_win\\lib\\site-packages\\pkg_resources\\__init__.py\u001b[0m in \u001b[0;36mload\u001b[1;34m(self, require, *args, **kwargs)\u001b[0m\n\u001b[0;32m   2320\u001b[0m         \u001b[1;32mif\u001b[0m \u001b[0mrequire\u001b[0m\u001b[1;33m:\u001b[0m\u001b[1;33m\u001b[0m\u001b[0m\n\u001b[0;32m   2321\u001b[0m             \u001b[0mself\u001b[0m\u001b[1;33m.\u001b[0m\u001b[0mrequire\u001b[0m\u001b[1;33m(\u001b[0m\u001b[1;33m*\u001b[0m\u001b[0margs\u001b[0m\u001b[1;33m,\u001b[0m \u001b[1;33m**\u001b[0m\u001b[0mkwargs\u001b[0m\u001b[1;33m)\u001b[0m\u001b[1;33m\u001b[0m\u001b[0m\n\u001b[1;32m-> 2322\u001b[1;33m         \u001b[1;32mreturn\u001b[0m \u001b[0mself\u001b[0m\u001b[1;33m.\u001b[0m\u001b[0mresolve\u001b[0m\u001b[1;33m(\u001b[0m\u001b[1;33m)\u001b[0m\u001b[1;33m\u001b[0m\u001b[0m\n\u001b[0m\u001b[0;32m   2323\u001b[0m \u001b[1;33m\u001b[0m\u001b[0m\n\u001b[0;32m   2324\u001b[0m     \u001b[1;32mdef\u001b[0m \u001b[0mresolve\u001b[0m\u001b[1;33m(\u001b[0m\u001b[0mself\u001b[0m\u001b[1;33m)\u001b[0m\u001b[1;33m:\u001b[0m\u001b[1;33m\u001b[0m\u001b[0m\n",
      "\u001b[1;32mC:\\ProgramData\\Anaconda3\\envs\\dl_win\\lib\\site-packages\\pkg_resources\\__init__.py\u001b[0m in \u001b[0;36mresolve\u001b[1;34m(self)\u001b[0m\n\u001b[0;32m   2326\u001b[0m         \u001b[0mResolve\u001b[0m \u001b[0mthe\u001b[0m \u001b[0mentry\u001b[0m \u001b[0mpoint\u001b[0m \u001b[1;32mfrom\u001b[0m \u001b[0mits\u001b[0m \u001b[0mmodule\u001b[0m \u001b[1;32mand\u001b[0m \u001b[0mattrs\u001b[0m\u001b[1;33m.\u001b[0m\u001b[1;33m\u001b[0m\u001b[0m\n\u001b[0;32m   2327\u001b[0m         \"\"\"\n\u001b[1;32m-> 2328\u001b[1;33m         \u001b[0mmodule\u001b[0m \u001b[1;33m=\u001b[0m \u001b[0m__import__\u001b[0m\u001b[1;33m(\u001b[0m\u001b[0mself\u001b[0m\u001b[1;33m.\u001b[0m\u001b[0mmodule_name\u001b[0m\u001b[1;33m,\u001b[0m \u001b[0mfromlist\u001b[0m\u001b[1;33m=\u001b[0m\u001b[1;33m[\u001b[0m\u001b[1;34m'__name__'\u001b[0m\u001b[1;33m]\u001b[0m\u001b[1;33m,\u001b[0m \u001b[0mlevel\u001b[0m\u001b[1;33m=\u001b[0m\u001b[1;36m0\u001b[0m\u001b[1;33m)\u001b[0m\u001b[1;33m\u001b[0m\u001b[0m\n\u001b[0m\u001b[0;32m   2329\u001b[0m         \u001b[1;32mtry\u001b[0m\u001b[1;33m:\u001b[0m\u001b[1;33m\u001b[0m\u001b[0m\n\u001b[0;32m   2330\u001b[0m             \u001b[1;32mreturn\u001b[0m \u001b[0mfunctools\u001b[0m\u001b[1;33m.\u001b[0m\u001b[0mreduce\u001b[0m\u001b[1;33m(\u001b[0m\u001b[0mgetattr\u001b[0m\u001b[1;33m,\u001b[0m \u001b[0mself\u001b[0m\u001b[1;33m.\u001b[0m\u001b[0mattrs\u001b[0m\u001b[1;33m,\u001b[0m \u001b[0mmodule\u001b[0m\u001b[1;33m)\u001b[0m\u001b[1;33m\u001b[0m\u001b[0m\n",
      "\u001b[1;32mC:\\ProgramData\\Anaconda3\\envs\\dl_win\\lib\\site-packages\\gym\\envs\\atari\\__init__.py\u001b[0m in \u001b[0;36m<module>\u001b[1;34m\u001b[0m\n\u001b[1;32m----> 1\u001b[1;33m \u001b[1;32mfrom\u001b[0m \u001b[0mgym\u001b[0m\u001b[1;33m.\u001b[0m\u001b[0menvs\u001b[0m\u001b[1;33m.\u001b[0m\u001b[0matari\u001b[0m\u001b[1;33m.\u001b[0m\u001b[0matari_env\u001b[0m \u001b[1;32mimport\u001b[0m \u001b[0mAtariEnv\u001b[0m\u001b[1;33m\u001b[0m\u001b[0m\n\u001b[0m",
      "\u001b[1;32mC:\\ProgramData\\Anaconda3\\envs\\dl_win\\lib\\site-packages\\gym\\envs\\atari\\atari_env.py\u001b[0m in \u001b[0;36m<module>\u001b[1;34m\u001b[0m\n\u001b[0;32m      9\u001b[0m     \u001b[1;32mimport\u001b[0m \u001b[0matari_py\u001b[0m\u001b[1;33m\u001b[0m\u001b[0m\n\u001b[0;32m     10\u001b[0m \u001b[1;32mexcept\u001b[0m \u001b[0mImportError\u001b[0m \u001b[1;32mas\u001b[0m \u001b[0me\u001b[0m\u001b[1;33m:\u001b[0m\u001b[1;33m\u001b[0m\u001b[0m\n\u001b[1;32m---> 11\u001b[1;33m     \u001b[1;32mraise\u001b[0m \u001b[0merror\u001b[0m\u001b[1;33m.\u001b[0m\u001b[0mDependencyNotInstalled\u001b[0m\u001b[1;33m(\u001b[0m\u001b[1;34m\"{}. (HINT: you can install Atari dependencies by running 'pip install gym[atari]'.)\"\u001b[0m\u001b[1;33m.\u001b[0m\u001b[0mformat\u001b[0m\u001b[1;33m(\u001b[0m\u001b[0me\u001b[0m\u001b[1;33m)\u001b[0m\u001b[1;33m)\u001b[0m\u001b[1;33m\u001b[0m\u001b[0m\n\u001b[0m\u001b[0;32m     12\u001b[0m \u001b[1;33m\u001b[0m\u001b[0m\n\u001b[0;32m     13\u001b[0m \u001b[1;32mimport\u001b[0m \u001b[0mlogging\u001b[0m\u001b[1;33m\u001b[0m\u001b[0m\n",
      "\u001b[1;31mDependencyNotInstalled\u001b[0m: No module named 'atari_py'. (HINT: you can install Atari dependencies by running 'pip install gym[atari]'.)"
     ]
    }
   ],
   "source": [
    "env = gym.make('GravitarNoFrameskip-v0')"
   ]
  },
  {
   "cell_type": "markdown",
   "metadata": {},
   "source": [
    "- reset: resets the environment to the original state. It is the function you need to call when run a process for the first time, so it returns an initial observation"
   ]
  },
  {
   "cell_type": "code",
   "execution_count": null,
   "metadata": {},
   "outputs": [],
   "source": []
  },
  {
   "cell_type": "markdown",
   "metadata": {},
   "source": [
    "- render: creates a visual representation of the environment. From now on, we will use the following function to render an experiment:"
   ]
  },
  {
   "cell_type": "code",
   "execution_count": null,
   "metadata": {},
   "outputs": [],
   "source": [
    "def env_render(env_vis):\n",
    "    \"\"\"\n",
    "    param env_vis: List of env.render(mode = 'rgb_array') objects\n",
    "    \"\"\"\n",
    "    plt.figure()\n",
    "    plot = plt.imshow(env_vis[0])\n",
    "    plt.axis('off')\n",
    "    def animate(i):\n",
    "        plot.set_data(env_vis[i])\n",
    "\n",
    "    anim = anm.FuncAnimation(plt.gcf(),\n",
    "                             animate,\n",
    "                             frames=len(env_vis),\n",
    "                             interval=20,\n",
    "                             repeat=True,\n",
    "                             repeat_delay=20)\n",
    "    display(display_animation(anim, default_mode='loop'))"
   ]
  },
  {
   "cell_type": "code",
   "execution_count": null,
   "metadata": {},
   "outputs": [],
   "source": [
    "env_render([env.render(mode = 'rgb_array')])"
   ]
  },
  {
   "cell_type": "markdown",
   "metadata": {},
   "source": [
    "The next two functions are of type 'Space', and they are useful for describing the format of valid actions and observations:\n",
    "- env.action_space: defines the set of action"
   ]
  },
  {
   "cell_type": "code",
   "execution_count": null,
   "metadata": {},
   "outputs": [],
   "source": []
  },
  {
   "cell_type": "markdown",
   "metadata": {},
   "source": [
    "- env.observation_space: as before, this function defines the set of observations"
   ]
  },
  {
   "cell_type": "code",
   "execution_count": null,
   "metadata": {},
   "outputs": [],
   "source": []
  },
  {
   "cell_type": "markdown",
   "metadata": {},
   "source": [
    "The observation space can be discrete (gym.spaces.Discrete) or continous (gym.spaces.Box)"
   ]
  },
  {
   "cell_type": "markdown",
   "metadata": {},
   "source": [
    "On the other hand, observations and rewards are obtained using the step function. Let us review it:\n",
    "- step: takes an action object as an argument and returns four objects:\n",
    "    - observation: An object implemented by the environment, representing the observation of the environment.\n",
    "    - reward: A signed float value indicating the gain (or loss) from the previous action.\n",
    "    - done: A Boolean value representing if the scenario is finished. \n",
    "    - info: A Python dictionary object representing the diagnostic information.\n",
    " "
   ]
  },
  {
   "cell_type": "code",
   "execution_count": null,
   "metadata": {},
   "outputs": [],
   "source": []
  },
  {
   "cell_type": "markdown",
   "metadata": {},
   "source": [
    "## Our use cases: CartPole-v0 and Pong-v0"
   ]
  },
  {
   "cell_type": "markdown",
   "metadata": {},
   "source": [
    "Cartpole is an inverted pendulum with a center of gravity above its pivot point. \n",
    "In essence, a pole is attached by an un-actuated joint to a cart, which moves along a frictionless track.\n",
    "The system is controlled by applying a force of +1 or -1 to the cart. This force moves the pivot point under the center of mass to keep the pole balanced, preventing it from falling over.\n",
    "\n"
   ]
  },
  {
   "attachments": {
    "image.png": {
     "image/png": "[encoded data removed]"
    }
   },
   "cell_type": "markdown",
   "metadata": {},
   "source": [
    "![image.png](attachment:image.png)\n",
    "In the above figure, the violet square indicates the pivot point. Red and green arrows show possible horizontal forces that can be applied to the pivot point"
   ]
  },
  {
   "cell_type": "markdown",
   "metadata": {},
   "source": [
    "A failure is said to occur if the pole falls past 15 degrees from the vertical, or the cart moves more than 2.4 units from the center. Therefore, the reward in this case could be +1 for every time step on which failure did not occur,   and the return at each time could be computed as the number of steps until failure. Naturally, the return is maximized by keeping the pole balanced for as long as possible.\n",
    "\n",
    "Take a look at a video below with a real-life demonstration of a cartpole problem learning process."
   ]
  },
  {
   "cell_type": "code",
   "execution_count": null,
   "metadata": {},
   "outputs": [],
   "source": [
    "YouTubeVideo(\"XiigTGKZfks\")"
   ]
  },
  {
   "cell_type": "markdown",
   "metadata": {},
   "source": [
    "Using the above definitions for OpenAI Gym, print the state space dimension and her bounds for the CartPole-v0 environment:"
   ]
  },
  {
   "cell_type": "code",
   "execution_count": null,
   "metadata": {},
   "outputs": [],
   "source": []
  },
  {
   "cell_type": "markdown",
   "metadata": {},
   "source": [
    "Run and visualize the result of applying a random policy to the cartPole-vo problem."
   ]
  },
  {
   "cell_type": "code",
   "execution_count": null,
   "metadata": {},
   "outputs": [],
   "source": []
  },
  {
   "cell_type": "markdown",
   "metadata": {},
   "source": [
    "EXERCISE: Do the same for the Pong-v0 environment for one episode and 300 steps."
   ]
  },
  {
   "cell_type": "code",
   "execution_count": null,
   "metadata": {},
   "outputs": [],
   "source": []
  },
  {
   "cell_type": "markdown",
   "metadata": {},
   "source": [
    "### Q-Learning\n",
    "Q-Learning is a model-free, off-policy temporal difference control algorithm developed by Watkins in 1989.\n",
    "This means that the agent learns from experience adopting the best Q value independently of the current policy.\n",
    "\n",
    "In essence, this method learns an action-value function and update it according to the Bellman equation using the relation:\n",
    "\n",
    "$$Q\\left(s_t, a_t\\right) = Q\\left(s_t, a_t\\right) + \\alpha \\left(R_{t+1} + \\gamma  max_a Q(s_{t+1}, a) - Q\\left(s_t, a_t\\right) \\right)$$\n",
    "\n",
    "The Bellman equation is a recurrent equation that expresses\n",
    "a relationship between the value of a state and the values of\n",
    "its successor states, and allows for finding the optimal policy in a RL problem.\n",
    "\n",
    "In this case, the learned action-value function, $Q$, directly approximates the optimal\n",
    "action-value function."
   ]
  },
  {
   "cell_type": "markdown",
   "metadata": {},
   "source": [
    "**The algorithm**\n",
    "\n",
    "We can break the algorithm into the next 4 steps:\n",
    "\n",
    "1.-At time step $t$, we start from state $S_t$ and pick action according to the Q values, \n",
    "\n",
    "$$A_t=argmax_{a\\in A} Q\\left(S_t,a\\right)$$ ; $\\epsilon$-greedy is commonly applied.\n",
    "\n",
    "2.- With action $A_t$, we observe reward $R_{t+1}$ and get into the next state $s_{t+1}$.\n",
    "\n",
    "3.- Update the action-value function: \n",
    "\n",
    "$$Q\\left(S_t,A_t\\right) \\leftarrow Q\\left(S_t,A_t\\right)+\\alpha(R_{t+1}+\\gamma max_{a \\in A} Q\\left(S_{t+1},a\\right)−Q\\left(S_t,A_t\\right))$$\n",
    "\n",
    "4.- $t = t+1$ and repeat from step 1.\n",
    "\n",
    "$Q(s, a)$ can be implemented as a Q-Table or as a neural network (known as a Q-Network). In both cases, the task of the Q-Table or the Q-Network is to provide the best possible action based on the Q value of the given input. The Q-Table-based approach generally becomes intractable as the Q-Table becomes large, thus making neural networks the best candidate for approximating the Q-function. "
   ]
  },
  {
   "cell_type": "markdown",
   "metadata": {},
   "source": [
    "**Implementing Q-learning with a Q-Table**"
   ]
  },
  {
   "cell_type": "markdown",
   "metadata": {},
   "source": [
    "In a Q-table, each row represent a possible state in which the agent could be. Columns represent the possible actions in the environment. Each cell of the table keep a q-value.\n",
    "\n",
    "The steps required to implement the Q-Table solution are:"
   ]
  },
  {
   "cell_type": "markdown",
   "metadata": {},
   "source": [
    "1.- Discretize the state space with the help of the [wrapper](https://github.com/openai/gym/tree/master/gym/wrappers):"
   ]
  },
  {
   "cell_type": "code",
   "execution_count": null,
   "metadata": {},
   "outputs": [],
   "source": [
    "class DiscretizedObservationWrapper(gym.ObservationWrapper):\n",
    "    \"\"\"This wrapper converts a Box observation into a single integer.\n",
    "    \"\"\"\n",
    "    def __init__(self, env, n_bins=10, low=None, high=None):\n",
    "        super().__init__(env)\n",
    "        assert isinstance(env.observation_space, gym.spaces.Box)\n",
    "\n",
    "        low = self.observation_space.low if low is None else low\n",
    "        high = self.observation_space.high if high is None else high\n",
    "\n",
    "        self.n_bins = n_bins\n",
    "        self.val_bins = [np.linspace(l, h, n_bins + 1) for l, h in\n",
    "                         zip(low, high)]\n",
    "        self.observation_space = gym.spaces.Discrete(n_bins ** np.array(low).shape[0])\n",
    "\n",
    "    def _convert_to_one_number(self, digits):\n",
    "        return sum([d * ((self.n_bins + 1) ** i) for i, d in enumerate(digits)])\n",
    "\n",
    "    def observation(self, observation):\n",
    "        digits = [np.digitize([x], bins)[0]\n",
    "                  for x, bins in zip(observation.flatten(), self.val_bins)]\n",
    "        return self._convert_to_one_number(digits)\n"
   ]
  },
  {
   "cell_type": "code",
   "execution_count": null,
   "metadata": {},
   "outputs": [],
   "source": [
    "# Discretize the state space using the DiscretizedObservationWrapper class\n",
    "env = gym.make('CartPole-v0')\n",
    "num_states = 10\n",
    "env = DiscretizedObservationWrapper(env, n_bins=num_states, \n",
    "                                    low=[-2.4, -2.0, -0.42, -3.5], \n",
    "                                    high=[2.4, 2.0, 0.42, 3.5])\n",
    "num_actions = env.action_space.n"
   ]
  },
  {
   "cell_type": "markdown",
   "metadata": {},
   "source": [
    "2.- Implement the Q-value function $Q(s,a)$ using either a python dict or a numpy array:"
   ]
  },
  {
   "cell_type": "code",
   "execution_count": null,
   "metadata": {},
   "outputs": [],
   "source": [
    "from collections import defaultdict\n",
    "Q = defaultdict(float)\n",
    "\n",
    "def update_Q(env, s, r, a, s_next, done, params):\n",
    "    pass"
   ]
  },
  {
   "cell_type": "markdown",
   "metadata": {},
   "source": [
    "3.Define an $\\epsilon$-greedy policy:"
   ]
  },
  {
   "cell_type": "code",
   "execution_count": null,
   "metadata": {},
   "outputs": [],
   "source": [
    "def policy_q_table(state, env, params):\n",
    "    pass\n"
   ]
  },
  {
   "cell_type": "markdown",
   "metadata": {},
   "source": [
    "4.- Define a function to run an episode:"
   ]
  },
  {
   "cell_type": "code",
   "execution_count": null,
   "metadata": {},
   "outputs": [],
   "source": [
    "def episode(env, params):\n",
    "    pass"
   ]
  },
  {
   "cell_type": "markdown",
   "metadata": {},
   "source": [
    "5.- Collect all episodes in a function that runs over a given number of episodes: "
   ]
  },
  {
   "cell_type": "code",
   "execution_count": null,
   "metadata": {},
   "outputs": [],
   "source": [
    "def experiment(env, params):\n",
    "    pass\n"
   ]
  },
  {
   "cell_type": "markdown",
   "metadata": {},
   "source": [
    "6.- To conclude, run an experiment with the following parameters:"
   ]
  },
  {
   "cell_type": "code",
   "execution_count": null,
   "metadata": {},
   "outputs": [],
   "source": [
    "params = {'gamma': 0.99, \n",
    "          'alpha': 0.5,\n",
    "          'learning_rate': 0.8,\n",
    "          'discount_rate': 0.9,\n",
    "          'explore_rate': 0.2,\n",
    "          'exploration_decay': 0.1,\n",
    "          'n_episodes': 100,\n",
    "          'r_max': 0, \n",
    "          't_max': 0\n",
    "         }\n",
    "\n",
    "experiment(env, params)"
   ]
  },
  {
   "cell_type": "markdown",
   "metadata": {},
   "source": [
    "**Q-Network**\n",
    "\n",
    "As it said before, the Q value can be approximated using an Artifical Neural Network, that can be a multi-layer dense neural network, a convolutional network, or a recurrent network, depending on the problem.\n",
    "In our case, we will simulate a multi-layer neural network, with loss function:\n",
    "\n",
    "$$ L = \\left( r + \\gamma max_{a'}{\\hat{Q}\\left( s, a' \\right)} - Q\\left( s, a \\right)\\right )^2$$\n",
    "\n",
    "The steps necessary to implement the neural network solution are described now:"
   ]
  },
  {
   "cell_type": "markdown",
   "metadata": {},
   "source": [
    "0.- Build a neural network with two hidden layers (24 neurons and relu activation function). The input layer has dimension equal to the number of states, while the output dimension is equal to the number of actions."
   ]
  },
  {
   "cell_type": "code",
   "execution_count": null,
   "metadata": {},
   "outputs": [],
   "source": [
    "# import necessary modules from keras\n",
    "from keras.layers import Dense\n",
    "from keras.models import Sequential\n",
    "from keras.optimizers import Adam\n",
    "from keras.callbacks import TensorBoard\n",
    "\n",
    "tb = TensorBoard(log_dir='./QN_logs', histogram_freq=1)\n",
    "#tensorboard --logdir=./logs\n",
    "\n",
    "# Neural Net for Deep-Q learning Model\n",
    "def q_network(num_states, num_actions):\n",
    "    #return model\n",
    "    pass\n"
   ]
  },
  {
   "cell_type": "markdown",
   "metadata": {},
   "source": [
    "1.- Redefine the e-greedy policy function."
   ]
  },
  {
   "cell_type": "code",
   "execution_count": null,
   "metadata": {},
   "outputs": [],
   "source": [
    "def policy_q_nn(env, state, params):\n",
    "    pass \n"
   ]
  },
  {
   "cell_type": "markdown",
   "metadata": {},
   "source": [
    "2.- Fit the model"
   ]
  },
  {
   "cell_type": "code",
   "execution_count": null,
   "metadata": {},
   "outputs": [],
   "source": [
    "def update_q_network(state, action, reward, next_state, done):\n",
    "    pass\n",
    "        "
   ]
  },
  {
   "cell_type": "markdown",
   "metadata": {},
   "source": [
    "2.- Adapt the episode function to run Q-Network"
   ]
  },
  {
   "cell_type": "code",
   "execution_count": null,
   "metadata": {},
   "outputs": [],
   "source": [
    "def DQN_episode(env, params):\n",
    "    pass"
   ]
  },
  {
   "cell_type": "markdown",
   "metadata": {},
   "source": [
    "3.- Modify the experiment function and run the code with the following set of hyperparameters:"
   ]
  },
  {
   "cell_type": "code",
   "execution_count": null,
   "metadata": {},
   "outputs": [],
   "source": [
    "params = {'learning_rate': 0.8,\n",
    "          'discount_rate': 0.9,\n",
    "          'epsilon': 1.0,\n",
    "          'epsilon_min': 0.01,\n",
    "          'epsilon_decay': 0.995,\n",
    "          'n_episodes': 100,\n",
    "          'r_max': 0,\n",
    "          't_max': 0\n",
    "         }"
   ]
  },
  {
   "cell_type": "code",
   "execution_count": null,
   "metadata": {},
   "outputs": [],
   "source": [
    "# Experiment\n",
    "def experiment_dqn(env, params):\n",
    "    pass"
   ]
  },
  {
   "cell_type": "code",
   "execution_count": null,
   "metadata": {},
   "outputs": [],
   "source": [
    "# Run the experiment\n",
    "env = gym.make('CartPole-v1')\n",
    "state_size = env.observation_space.shape[0]\n",
    "action_size = env.action_space.n\n",
    "#state = np.reshape(state, [1, state_size])\n",
    "model = q_network(state_size, action_size)\n",
    "model.compile(loss='mse', optimizer=Adam(lr=params['learning_rate']))\n",
    "experiment_dqn(env, params)"
   ]
  },
  {
   "cell_type": "markdown",
   "metadata": {},
   "source": [
    "What do you observe from the results?"
   ]
  },
  {
   "cell_type": "markdown",
   "metadata": {},
   "source": [
    "### Experience replay\n",
    "In order to smooth the learning procedure and remove the possible correlations in the observation sequence, we will use the so called experience replay technique.\n",
    "\n",
    "Shortly, experience replay stores the agent’s experience at each time step $e_t=(s_t,a_t,r_t,s_{t+1})$ in a replay memory that is accessed to perform the weight updates. As samples are drawn at random from the replay memory during Q-learning updates, one sample could be used multiple times. \n",
    "Experience replay improves data efficiency, removes correlations in the observation sequences, and smooths over changes in the data distribution.\n",
    "\n",
    "Let us implement it :)"
   ]
  },
  {
   "cell_type": "code",
   "execution_count": null,
   "metadata": {},
   "outputs": [],
   "source": []
  },
  {
   "cell_type": "markdown",
   "metadata": {},
   "source": [
    "### Vanilla Policy Gradient"
   ]
  },
  {
   "cell_type": "markdown",
   "metadata": {},
   "source": [
    "In contrast with the classical action-value methods, policy gradients (PG) do not need to learn the values of actions in order to define a policy. Instead, PG learn directly a parameterized policy -- i.e, can select actions without consulting a value function -- pushing up the probabilities of actions that lead to higher return, and down the probabilities of actions that lead to lower return. PG are appropiate, for instance, when the state space of the problem at hand is large."
   ]
  },
  {
   "cell_type": "markdown",
   "metadata": {},
   "source": [
    "In policy gradient methods, the probability that action $a$ is taken at time $t$ given that the environment is in state $s$ at time $t$ with parameter $\\theta$ can be written then as:\n",
    "\n",
    "$$\\pi(a|s, \\theta) = Pr \\left\\{A_t = a | S_t = s, \\theta_t = \\theta \\right\\}$$"
   ]
  },
  {
   "cell_type": "markdown",
   "metadata": {},
   "source": [
    "The policy gradient algorithm works by updating policy parameters via stochastic gradient ascent on policy performance:"
   ]
  },
  {
   "cell_type": "markdown",
   "metadata": {},
   "source": [
    "$$\\theta_{t+1} = \\theta_t + \\alpha \\widehat{\\nabla_{\\theta} J(\\pi_{\\theta_t})}$$"
   ]
  },
  {
   "cell_type": "markdown",
   "metadata": {},
   "source": [
    "where $\\widehat{\\nabla J(\\pi_{\\theta_t})}$ is a stochastic estimate whose expectation approximates the gradient of the performance measure with respect to its argument $\\theta_t$"
   ]
  },
  {
   "cell_type": "markdown",
   "metadata": {},
   "source": [
    "$$\\nabla J(\\pi_{\\theta_t}) = E_{\\tau \\sim \\pi_{\\theta}} \\left \\{ \\sum_{t=0}^T \\nabla_{\\theta} log \\pi_{\\theta} (a_t|s_t) A^{\\pi_{\\theta}} (s_t, a_t) \\right \\} $$ "
   ]
  },
  {
   "cell_type": "markdown",
   "metadata": {},
   "source": [
    "where $\\tau$ is a trajectory and $A^{\\pi_{\\theta}}$ is the advantage function for the current policy:\n",
    "\n",
    "$$A^{\\pi} (s, a) = Q^{\\pi}(s, a) - V^{\\pi}(s)$$\n"
   ]
  },
  {
   "cell_type": "markdown",
   "metadata": {},
   "source": [
    "Action preferences can be parameterized arbitrarily. For instance, they might be computed by an artificial neural network (ANN), where $\\theta$ is the vector of all the connection weights of the network. Let's see how it works using the Pong-v0 environment."
   ]
  },
  {
   "cell_type": "markdown",
   "metadata": {},
   "source": [
    "#### Solving Pong-v0 with VPG"
   ]
  },
  {
   "cell_type": "markdown",
   "metadata": {},
   "source": [
    "In this case, we just code a neural network that outputs a probability of moving up (define the policy), and takes as input simply the sequence of frames it gets from observations."
   ]
  },
  {
   "cell_type": "markdown",
   "metadata": {},
   "source": [
    "![](https://blog.floydhub.com/content/images/2018/12/image-2.png)"
   ]
  },
  {
   "cell_type": "markdown",
   "metadata": {},
   "source": [
    "EXERCISE: Implement a policy network consisting of a 3 fully connected layers. The first one, the input, has dimensions $80x80$. The hidden layer should have 200 units with relu activation. Initialize this layer using glorot uniform. The output consists of one neuron activated with a sigmoid function (take kernel_initializer='RandomNormal').\n",
    "\n",
    "Which loss function should be applied in this problem?\n",
    "\n",
    "Note 1: The 80 * 80 input dimension comes from a pre-processing step to filter important pixels (those which define the balls and the paddle) and to express things like the direction of the ball (computed from the difference between two consecutive frames).\n",
    "\n",
    "Note 2: We use a sigmoid activation in the output layer because it must predict a probability of choosing the action UP.\n"
   ]
  },
  {
   "cell_type": "code",
   "execution_count": null,
   "metadata": {},
   "outputs": [],
   "source": [
    "#Define and compile the network model"
   ]
  },
  {
   "cell_type": "markdown",
   "metadata": {},
   "source": [
    "Code for the preprocessing step and the discounted rewards:"
   ]
  },
  {
   "cell_type": "code",
   "execution_count": null,
   "metadata": {},
   "outputs": [],
   "source": [
    "import numpy as np\n",
    "\n",
    "# preprocessing used by Karpathy (cf. https://gist.github.com/karpathy/a4166c7fe253700972fcbc77e4ea32c5)\n",
    "def prepro(I):\n",
    "    \"\"\" prepro 210x160x3 uint8 frame into 6400 (80x80) 1D float vector \"\"\"\n",
    "    I = I[35:195] # crop\n",
    "    I = I[::2,::2,0] # downsample by factor of 2\n",
    "    I[I == 144] = 0 # erase background (background type 1)\n",
    "    I[I == 109] = 0 # erase background (background type 2)\n",
    "    I[I != 0] = 1 # everything else (paddles, ball) just set to 1\n",
    "    return I.astype(np.float).ravel()\n",
    "\n",
    "# reward discount used by Karpathy (cf. https://gist.github.com/karpathy/a4166c7fe253700972fcbc77e4ea32c5)\n",
    "def discount_rewards(r, gamma):\n",
    "    \"\"\" take 1D float array of rewards and compute discounted reward \"\"\"\n",
    "    r = np.array(r)\n",
    "    discounted_r = np.zeros_like(r)\n",
    "    running_add = 0\n",
    "    # we go from last reward to first one so we don't have to do exponentiations\n",
    "    for t in reversed(range(0, r.size)):\n",
    "        if r[t] != 0: running_add = 0 # if the game ended (in Pong), reset the reward sum\n",
    "        running_add = running_add * gamma + r[t] # the point here is to use Horner's method to compute those rewards efficiently\n",
    "        discounted_r[t] = running_add\n",
    "    discounted_r -= np.mean(discounted_r) #normalizing the result\n",
    "    discounted_r /= np.std(discounted_r) #idem\n",
    "    return discounted_r"
   ]
  },
  {
   "cell_type": "markdown",
   "metadata": {},
   "source": [
    "Now, let's initialize the gym environment, the main variables and the hyperparameters:"
   ]
  },
  {
   "cell_type": "code",
   "execution_count": null,
   "metadata": {},
   "outputs": [],
   "source": [
    "# gym initialization\n",
    "env = gym.make(\"Pong-v0\")\n",
    "observation = env.reset()\n",
    "prev_input = None\n",
    "\n",
    "# Macros\n",
    "UP_ACTION = 2\n",
    "DOWN_ACTION = 3\n",
    "\n",
    "# Hyperparameters\n",
    "gamma = 0.99\n",
    "\n",
    "# initialization of variables used in the main loop\n",
    "x_train, y_train, rewards = [],[],[]\n",
    "reward_sum = 0\n",
    "episode_nb = 0"
   ]
  },
  {
   "cell_type": "markdown",
   "metadata": {},
   "source": [
    "EXERCISE: Implement and run the main loop:"
   ]
  },
  {
   "cell_type": "code",
   "execution_count": null,
   "metadata": {},
   "outputs": [],
   "source": []
  },
  {
   "cell_type": "markdown",
   "metadata": {},
   "source": [
    "## RL Frameworks for keras: keras-rl"
   ]
  },
  {
   "cell_type": "markdown",
   "metadata": {},
   "source": [
    "Find more info [here](https://github.com/keras-rl/keras-rl)"
   ]
  },
  {
   "cell_type": "code",
   "execution_count": null,
   "metadata": {},
   "outputs": [],
   "source": [
    "import numpy as np\n",
    "import gym\n",
    "\n",
    "from keras.models import Sequential\n",
    "from keras.layers import Dense, Activation, Flatten\n",
    "from keras.optimizers import Adam\n",
    "\n",
    "from rl.agents.dqn import DQNAgent\n",
    "from rl.policy import BoltzmannQPolicy\n",
    "from rl.memory import SequentialMemory\n",
    "\n",
    "\n",
    "ENV_NAME = 'CartPole-v0'\n",
    "\n",
    "\n",
    "# Get the environment and extract the number of actions.\n",
    "env = gym.make(ENV_NAME)\n",
    "np.random.seed(123)\n",
    "env.seed(123)\n",
    "nb_actions = env.action_space.n\n",
    "\n",
    "# Next, we build a very simple model.\n",
    "model = Sequential()\n",
    "model.add(Flatten(input_shape=(1,) + env.observation_space.shape))\n",
    "model.add(Dense(16))\n",
    "model.add(Activation('relu'))\n",
    "model.add(Dense(16))\n",
    "model.add(Activation('relu'))\n",
    "model.add(Dense(16))\n",
    "model.add(Activation('relu'))\n",
    "model.add(Dense(nb_actions))\n",
    "model.add(Activation('linear'))\n",
    "print(model.summary())\n",
    "\n",
    "# Finally, we configure and compile our agent. You can use every built-in Keras optimizer and\n",
    "# even the metrics!\n",
    "memory = SequentialMemory(limit=50000, window_length=1)\n",
    "policy = BoltzmannQPolicy()\n",
    "dqn = DQNAgent(model=model, nb_actions=nb_actions, memory=memory, nb_steps_warmup=10,\n",
    "               target_model_update=1e-2, policy=policy)\n",
    "dqn.compile(Adam(lr=1e-3), metrics=['mae'])\n",
    "\n",
    "# Okay, now it's time to learn something! We visualize the training here for show, but this\n",
    "# slows down training quite a lot. You can always safely abort the training prematurely using\n",
    "# Ctrl + C.\n",
    "dqn.fit(env, nb_steps=50000, visualize=True, verbose=2)\n",
    "\n",
    "# After training is done, we save the final weights.\n",
    "dqn.save_weights('dqn_{}_weights.h5f'.format(ENV_NAME), overwrite=True)\n",
    "\n",
    "# Finally, evaluate our algorithm for 5 episodes.\n",
    "dqn.test(env, nb_episodes=5, visualize=True)"
   ]
  }
 ],
 "metadata": {
  "kernelspec": {
   "display_name": "Python (dl_win)",
   "language": "python",
   "name": "dl_win"
  },
  "language_info": {
   "codemirror_mode": {
    "name": "ipython",
    "version": 3
   },
   "file_extension": ".py",
   "mimetype": "text/x-python",
   "name": "python",
   "nbconvert_exporter": "python",
   "pygments_lexer": "ipython3",
   "version": "3.6.6"
  }
 },
 "nbformat": 4,
 "nbformat_minor": 2
}
