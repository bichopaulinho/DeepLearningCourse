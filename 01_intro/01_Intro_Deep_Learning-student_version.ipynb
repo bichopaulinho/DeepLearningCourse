{
 "cells": [
  {
   "cell_type": "markdown",
   "metadata": {},
   "source": [
    "# Introduction to Neural Networks and Deep Learning"
   ]
  },
  {
   "cell_type": "markdown",
   "metadata": {},
   "source": [
    "## What's the difference between Artificial Intelligence, Machine Learning and Deep Learning?\n",
    "\n",
    "**Artificial Intelligence** (AI) is a very old field of research. It started in the 1950s; at that time, the pioneers in AI were convinced that they could make machines think. The initial approach was attempting to model intellectual tasks, and program those tasks in computers. That is, in the beginning, AI was about people *hard-coding* problems that the machine tried to solve. A good example of an early AI program is computer chess. Early AI computer chess programs had **lots of rules pre-conceived by the program designers**. So although the term refers to \"intelligence\", these programs were not \"intelligent\", but just a sophisticated set of rules.\n",
    "\n",
    "* The term *neural network* was also born at that time. The initial idea was trying to mimic how a *neuron* works (or in fact, how it was thought a neuron worked when the term was coined) in the brain. As in the case of *Artificial Intelligence*, please do not be fooled by the terms. A *neural network* is just a way to compute approximation to functions. A powerful and useful way, true. But it is not any kind of \"artificial brain\", or anything like that.\n",
    "\n",
    "This approach is now obsolete. We now know that some tasks are so complex, that we will never be able to pre-design a system to have a good performance on those tasks. Take the example of the game of Go. Any program designed by humans to play Go was dull and could not compete against professional players. The game is so hard that is just impossible for us as humans to conceived a good Go computer player.\n",
    "* https://en.wikipedia.org/wiki/Go_(game)\n",
    "\n",
    "The modern approach to solve this kind of problems involves the use of data. This is what the *learning* part of *Deep Learning* (and *Machine Learning*) refers to. **Learning from data**. So, with this brief introduction, we can say that *Artificial Intelligence* is a broad concept that includes *Machine Learning*, that includes *Deep Learning*. *Artificial Intelligence* does not necessarily means learning from data, but Machine Learning does. And *Deep Learning* is just doing *Machine Learning* with neural networks.\n",
    "\n",
    "![](imgs/01_ai_ml_dl.png)\n",
    "\n",
    "We will see during this course what *learning* means, and what is a *neural network*. \n",
    "\n",
    "In the case of the game of Go, all attempts to design a good Go computer player failed, until Google DeepMind created AlphaGo, a system that *learned* to play Go based on data from previous games. AlphaGo is an example that learning from data can provide computer systems that are superior to any system pre-conceived by humans.\n",
    "* Find out more about AlphaGo by watching this utterly interesting movie: https://www.alphagomovie.com/\n",
    "\n",
    "In this course, we will give our first steps on *Deep Learning* and *Neural Networks*, to start creating systems that perform complex tasks by learning from data. Instead of attempting to derive the rules by ourselves, those rules will be inferred by a neural network based on the data we provide:\n",
    "\n",
    "![](imgs/02_rules_data.png)"
   ]
  },
  {
   "cell_type": "markdown",
   "metadata": {},
   "source": [
    "## Neural Networks\n",
    "\n",
    "A neural network is just a stacked set of layers. Each layer is represented by a tensor, and it performs an affine transformation on each one of the layers.\n",
    "* A matrix is a 2D tensor\n",
    "* Affine transformation $\\vec{y} = W\\cdot\\vec{x} + \\vec{b}$, where $W$ is the weights tensor, $\\vec{x}$ is the input data, $\\vec{y}$ is the output data and $\\vec{b}$ is called the bias\n",
    "* $W$ and $\\vec{b}$ are model parameters that need to be found by training\n",
    "\n",
    "![](imgs/05_nn.png)\n",
    "\n",
    "Note that this is a **linear operation**, therefore the result will be linear too. But the functions we want to learn are normally non-linear. How do we overcome this limiation? By using an **activation function**, that transforms the result from the linear operation. So, we actually do the following operation:\n",
    "\n",
    "$\\vec{y} = f\\left(W\\cdot\\vec{x} + \\vec{b}\\right)$\n",
    "\n",
    "There are several common activation functions, depending on the characteristics of the data and the kind of problem we want to solve. Here we will use the probably most often used activation function: **rectified linear unit**, or **relu** for friends:\n",
    "\n",
    "![Relu plot](https://upload.wikimedia.org/wikipedia/commons/6/6c/Rectifier_and_softplus_functions.svg)\n",
    "\n",
    "(image extracted from https://en.wikipedia.org/wiki/Rectifier_(neural_networks))\n",
    "\n",
    "Relu will add the non-linearity that we need to learn arbitrary functions.\n",
    "\n",
    "We can achieve the same with many other activation functions. See the documentation of Keras for details on the available activation functions:\n",
    " - https://keras.io/activations/\n",
    "\n",
    "\n",
    "Each layer learns a new representation of the input data, and after several layers, the representation will make it straightforward to solve the task (e.g. assiging a digit to an image of a digit).\n",
    "\n",
    "Until very recently, any attempt to train a deep neural network would not provide good results. Recent progresses (e.g. advances in hardware, new activation functions) make it possible to train very deep network, and therefore, solve problems that were unfeasible not long ago.\n",
    "\n",
    "### Training process\n",
    "\n",
    "The parameters of the network are initially randomly assigned. Then after each pass of the network, that is, after each *epoch*, the predictions of the network is compared against the true values, applying a *loss function*. This score is used to update the parameters of the network, with a process called **backpropagation**.\n",
    "* Backpropagation is a complex process that involves calculating the gradient of the parameters of the network. For more details see: https://en.wikipedia.org/wiki/Backpropagation\n",
    "* See also this excellent and visual explanation of how backpropagation works: https://google-developers.appspot.com/machine-learning/crash-course/backprop-scroll/\n",
    "\n",
    "The training process is just an optimization process, that is normally done using a gradient descent-based algorithm. The values of gradients are computed using the backpropagation algorithm. Each epoch will make the loss score to be lower, and the predictions to be better.\n",
    "\n",
    "![](imgs/06_optim.png)\n",
    "\n",
    "In practice, we have to fine tune the number of epochs (and other parameters), until we obtain a result that is good enough for our purpose. In fact, if the number of epochs is too high, our model may **overfit** the training data. In that case, it will perform worsely when the model is exposed to data that it  has not seen previously.\n",
    "* Fine tuning the number of epochs, and other parameters (e.g. the number and shape of the layers) is known as **hyperparameters optimization**, or **hyperparameters tuning**\n",
    "* The parameters of the model are the $W$ and $b$ values of each layer, and those are determined by training.\n",
    "\n",
    "## Hyperparameters tuning\n",
    "\n",
    "In summary, when we are trying to obtain a deep learning model, the process that we will follow is:\n",
    "* Decide on the architecture of the network (number of layers, type of each layer, size of each layer)\n",
    "* Decide on the activation functions on each layer\n",
    "* Decide on the parameters related to the optimization process (e.g. learning rate)\n",
    "* Decide on the loss function that we will use\n",
    "* Decide on the metrics that we will use to evaluate the performance of the model\n",
    "* Decide on the training parameters (number of epochs, batch size)\n",
    "* Decide on how to split the data between training, validation and test sets.\n",
    "\n",
    "We obtain feedback for those decisions with the results of the training applied to the validation set. We train once, change some of the hyperparameters, train again, decide if that's better, and we keep going until we have found a model that is satisfactory enough for our purposes.\n",
    "\n",
    "After that, we finally evaluate the model on the test set."
   ]
  },
  {
   "cell_type": "markdown",
   "metadata": {},
   "source": [
    "## Our first neural network\n",
    "\n",
    "Let's start with an easy example. We are going to produce some synthetic data, and will try to predict the function that generates the data. We will add some noise, to make the problem more difficult.\n",
    "\n",
    "The function we are going to try to predict is\n",
    "\n",
    "$\\displaystyle y = 3*x + 2$"
   ]
  },
  {
   "cell_type": "code",
   "execution_count": 2,
   "metadata": {},
   "outputs": [
    {
     "name": "stdout",
     "output_type": "stream",
     "text": [
      "Populating the interactive namespace from numpy and matplotlib\n"
     ]
    }
   ],
   "source": [
    "# Here goes the fun =)\n",
    "%pylab inline\n",
    "plt.style.use('seaborn-talk')\n"
   ]
  },
  {
   "cell_type": "code",
   "execution_count": 114,
   "metadata": {},
   "outputs": [],
   "source": [
    "x_train =np.linspace(0,100,5000)\n",
    "y_train = 3*x_train + 2"
   ]
  },
  {
   "cell_type": "code",
   "execution_count": 115,
   "metadata": {},
   "outputs": [
    {
     "data": {
      "image/png": "[encoded data removed]",
      "text/plain": [
       "<Figure size 432x288 with 1 Axes>"
      ]
     },
     "metadata": {
      "needs_background": "light"
     },
     "output_type": "display_data"
    }
   ],
   "source": [
    "plt.plot(x_train, y_train, 'b')\n",
    "plt.show()"
   ]
  },
  {
   "cell_type": "code",
   "execution_count": 116,
   "metadata": {},
   "outputs": [],
   "source": [
    "import keras"
   ]
  },
  {
   "cell_type": "code",
   "execution_count": 117,
   "metadata": {},
   "outputs": [],
   "source": [
    "from keras import models\n",
    "from keras import layers"
   ]
  },
  {
   "cell_type": "code",
   "execution_count": 118,
   "metadata": {},
   "outputs": [],
   "source": [
    "# inicializamos el modelo en modo secuencial (capa a capa). Las capas han de tener dimensión coherente\n",
    "m = models.Sequential()\n",
    "# definimos la primera capa de la red\n",
    "m.add(layers.Dense(8, input_shape = (1,), activation = 'elu' ))\n",
    "m.add(layers.Dense(8, activation = 'elu'))\n",
    "m.add(layers.Dense(8, activation = 'elu'))\n",
    "m.add(layers.Dense(8, activation = 'elu'))\n",
    "m.add(layers.Dense(8, activation = 'elu'))\n",
    "#m.add(layers.Dense(16, activation = 'elu'))\n",
    "# otra  capa (solo hay que poner la salida)\n",
    "m.add(layers.Dense(1, activation = 'elu'))"
   ]
  },
  {
   "cell_type": "code",
   "execution_count": 119,
   "metadata": {},
   "outputs": [
    {
     "name": "stdout",
     "output_type": "stream",
     "text": [
      "_________________________________________________________________\n",
      "Layer (type)                 Output Shape              Param #   \n",
      "=================================================================\n",
      "dense_40 (Dense)             (None, 8)                 16        \n",
      "_________________________________________________________________\n",
      "dense_41 (Dense)             (None, 8)                 72        \n",
      "_________________________________________________________________\n",
      "dense_42 (Dense)             (None, 8)                 72        \n",
      "_________________________________________________________________\n",
      "dense_43 (Dense)             (None, 8)                 72        \n",
      "_________________________________________________________________\n",
      "dense_44 (Dense)             (None, 8)                 72        \n",
      "_________________________________________________________________\n",
      "dense_45 (Dense)             (None, 1)                 9         \n",
      "=================================================================\n",
      "Total params: 313\n",
      "Trainable params: 313\n",
      "Non-trainable params: 0\n",
      "_________________________________________________________________\n"
     ]
    }
   ],
   "source": [
    "# la segunda capa tiene 17 params debido al termino independiente\n",
    "m.summary()"
   ]
  },
  {
   "cell_type": "code",
   "execution_count": 102,
   "metadata": {},
   "outputs": [],
   "source": [
    "from keras import optimizers\n",
    "from keras  import losses\n",
    "from keras import metrics"
   ]
  },
  {
   "cell_type": "code",
   "execution_count": 120,
   "metadata": {},
   "outputs": [],
   "source": [
    "m.compile(optimizer=optimizers.rmsprop(), \n",
    "          loss= losses.mean_squared_error)"
   ]
  },
  {
   "cell_type": "code",
   "execution_count": 121,
   "metadata": {},
   "outputs": [
    {
     "name": "stdout",
     "output_type": "stream",
     "text": [
      "Train on 4000 samples, validate on 1000 samples\n",
      "Epoch 1/25\n",
      "4000/4000 [==============================] - 0s 107us/step - loss: 16996.0542 - val_loss: 49350.3947\n",
      "Epoch 2/25\n",
      "4000/4000 [==============================] - 0s 21us/step - loss: 6121.7425 - val_loss: 2489.5315\n",
      "Epoch 3/25\n",
      "4000/4000 [==============================] - 0s 19us/step - loss: 65.6494 - val_loss: 95.1175\n",
      "Epoch 4/25\n",
      "4000/4000 [==============================] - 0s 18us/step - loss: 8.3208 - val_loss: 2.2632\n",
      "Epoch 5/25\n",
      "4000/4000 [==============================] - 0s 17us/step - loss: 2.1523 - val_loss: 0.8782\n",
      "Epoch 6/25\n",
      "4000/4000 [==============================] - 0s 18us/step - loss: 1.5970 - val_loss: 0.0412\n",
      "Epoch 7/25\n",
      "4000/4000 [==============================] - 0s 18us/step - loss: 1.6099 - val_loss: 8.4522\n",
      "Epoch 8/25\n",
      "4000/4000 [==============================] - 0s 18us/step - loss: 1.3672 - val_loss: 0.0263\n",
      "Epoch 9/25\n",
      "4000/4000 [==============================] - 0s 17us/step - loss: 1.3034 - val_loss: 0.2359\n",
      "Epoch 10/25\n",
      "4000/4000 [==============================] - 0s 17us/step - loss: 1.5185 - val_loss: 1.3255\n",
      "Epoch 11/25\n",
      "4000/4000 [==============================] - 0s 18us/step - loss: 1.3443 - val_loss: 1.1249\n",
      "Epoch 12/25\n",
      "4000/4000 [==============================] - 0s 17us/step - loss: 1.3554 - val_loss: 5.9854\n",
      "Epoch 13/25\n",
      "4000/4000 [==============================] - 0s 18us/step - loss: 1.3157 - val_loss: 1.1617\n",
      "Epoch 14/25\n",
      "4000/4000 [==============================] - 0s 17us/step - loss: 1.4109 - val_loss: 0.0265\n",
      "Epoch 15/25\n",
      "4000/4000 [==============================] - 0s 19us/step - loss: 1.2845 - val_loss: 12.7152\n",
      "Epoch 16/25\n",
      "4000/4000 [==============================] - 0s 17us/step - loss: 1.4075 - val_loss: 0.3930\n",
      "Epoch 17/25\n",
      "4000/4000 [==============================] - 0s 19us/step - loss: 1.3195 - val_loss: 0.4112\n",
      "Epoch 18/25\n",
      "4000/4000 [==============================] - 0s 18us/step - loss: 1.3442 - val_loss: 2.7015\n",
      "Epoch 19/25\n",
      "4000/4000 [==============================] - 0s 19us/step - loss: 1.3249 - val_loss: 1.9680\n",
      "Epoch 20/25\n",
      "4000/4000 [==============================] - 0s 18us/step - loss: 1.2532 - val_loss: 3.6416\n",
      "Epoch 21/25\n",
      "4000/4000 [==============================] - 0s 19us/step - loss: 1.3560 - val_loss: 2.3767\n",
      "Epoch 22/25\n",
      "4000/4000 [==============================] - 0s 19us/step - loss: 1.2856 - val_loss: 1.7652\n",
      "Epoch 23/25\n",
      "4000/4000 [==============================] - 0s 19us/step - loss: 1.1826 - val_loss: 6.5422\n",
      "Epoch 24/25\n",
      "4000/4000 [==============================] - 0s 18us/step - loss: 1.2440 - val_loss: 0.6062\n",
      "Epoch 25/25\n",
      "4000/4000 [==============================] - 0s 18us/step - loss: 1.3579 - val_loss: 3.6797\n"
     ]
    }
   ],
   "source": [
    "# Stochastic Gradient descent --> mini batch size para calcular el gradiente\n",
    "# epoch -> cada vez que pasamos todos los datos disponibles por el stochastic gd. Ej. 10k\n",
    "# datos y batch_size = 10 --> 1 epoch = 1000 iteraciones\n",
    "h = m.fit(x_train, y_train, batch_size = 50, epochs=25, validation_split=0.2)"
   ]
  },
  {
   "cell_type": "code",
   "execution_count": 122,
   "metadata": {},
   "outputs": [],
   "source": [
    "def plot_metric(history, metric):\n",
    "    history_dict = history.history\n",
    "    values = history_dict[metric]\n",
    "    if 'val_' + metric in history_dict.keys():  \n",
    "        val_values = history_dict['val_' + metric]\n",
    "\n",
    "    epochs = range(1, len(values) + 1)\n",
    "\n",
    "    if 'val_' + metric in history_dict.keys():  \n",
    "        plt.plot(epochs, val_values, label='Validation')\n",
    "    plt.semilogy(epochs, values, label='Training')\n",
    "\n",
    "    if 'val_' + metric in history_dict.keys():  \n",
    "        plt.title('Training and validation %s' % metric)\n",
    "    else:\n",
    "        plt.title('Training %s' % metric)\n",
    "    plt.xlabel('Epochs')\n",
    "    plt.ylabel(metric.capitalize())\n",
    "    plt.legend()\n",
    "\n",
    "    plt.show()  "
   ]
  },
  {
   "cell_type": "code",
   "execution_count": 123,
   "metadata": {},
   "outputs": [
    {
     "data": {
      "image/png": "[encoded data removed]",
      "text/plain": [
       "<Figure size 432x288 with 1 Axes>"
      ]
     },
     "metadata": {
      "needs_background": "light"
     },
     "output_type": "display_data"
    }
   ],
   "source": [
    "plot_metric(h,'loss')"
   ]
  },
  {
   "cell_type": "code",
   "execution_count": 124,
   "metadata": {},
   "outputs": [
    {
     "data": {
      "text/plain": [
       "[<matplotlib.lines.Line2D at 0x160cf2b0>]"
      ]
     },
     "execution_count": 124,
     "metadata": {},
     "output_type": "execute_result"
    },
    {
     "data": {
      "image/png": "[encoded data removed]",
      "text/plain": [
       "<Figure size 432x288 with 1 Axes>"
      ]
     },
     "metadata": {
      "needs_background": "light"
     },
     "output_type": "display_data"
    }
   ],
   "source": [
    "pred = m.predict(x_train)\n",
    "plt.plot(x_train, y_train, '--b')\n",
    "plt.plot(x_train, pred, '--k')"
   ]
  },
  {
   "cell_type": "code",
   "execution_count": 125,
   "metadata": {},
   "outputs": [],
   "source": [
    "x_test = np.linspace(100, 105, 100)\n",
    "y_test = 3*x_test +2"
   ]
  },
  {
   "cell_type": "code",
   "execution_count": 126,
   "metadata": {},
   "outputs": [
    {
     "data": {
      "text/plain": [
       "[<matplotlib.lines.Line2D at 0x161ec908>]"
      ]
     },
     "execution_count": 126,
     "metadata": {},
     "output_type": "execute_result"
    },
    {
     "data": {
      "image/png": "[encoded data removed]",
      "text/plain": [
       "<Figure size 432x288 with 1 Axes>"
      ]
     },
     "metadata": {
      "needs_background": "light"
     },
     "output_type": "display_data"
    }
   ],
   "source": [
    "plt.plot(x_train, y_train, 'r')\n",
    "plt.plot(x_test, y_test, 'b')"
   ]
  },
  {
   "cell_type": "code",
   "execution_count": 127,
   "metadata": {},
   "outputs": [
    {
     "data": {
      "text/plain": [
       "[<matplotlib.lines.Line2D at 0x1623a198>]"
      ]
     },
     "execution_count": 127,
     "metadata": {},
     "output_type": "execute_result"
    },
    {
     "data": {
      "image/png": "[encoded data removed]",
      "text/plain": [
       "<Figure size 432x288 with 1 Axes>"
      ]
     },
     "metadata": {
      "needs_background": "light"
     },
     "output_type": "display_data"
    }
   ],
   "source": [
    "pred = m.predict(x_test)\n",
    "plt.plot(x_train, y_train, 'b')\n",
    "plt.plot(x_test, y_test, 'r')\n",
    "plt.plot(x_test, pred, '--k')"
   ]
  },
  {
   "cell_type": "code",
   "execution_count": null,
   "metadata": {},
   "outputs": [],
   "source": []
  },
  {
   "cell_type": "code",
   "execution_count": null,
   "metadata": {},
   "outputs": [],
   "source": []
  }
 ],
 "metadata": {
  "kernelspec": {
   "display_name": "Python (dl_win)",
   "language": "python",
   "name": "dl_win"
  },
  "language_info": {
   "codemirror_mode": {
    "name": "ipython",
    "version": 3
   },
   "file_extension": ".py",
   "mimetype": "text/x-python",
   "name": "python",
   "nbconvert_exporter": "python",
   "pygments_lexer": "ipython3",
   "version": "3.6.6"
  }
 },
 "nbformat": 4,
 "nbformat_minor": 2
}
