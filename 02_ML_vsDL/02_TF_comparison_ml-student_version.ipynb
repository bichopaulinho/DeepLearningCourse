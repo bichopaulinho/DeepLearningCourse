{
 "cells": [
  {
   "cell_type": "markdown",
   "metadata": {},
   "source": [
    "# Machine Learning with Tensorflow\n",
    "\n",
    "Tensorflow (TF) can not only be used for deep learning, but for numerical computations in general. It is specially suited for handling matrices and tensors.\n",
    "\n",
    "In this notebook we will explore how to use TF for *traditional* machine learning (ML) model, and how it compares to solving the same problem using a deep learning model."
   ]
  },
  {
   "cell_type": "code",
   "execution_count": 1,
   "metadata": {},
   "outputs": [
    {
     "name": "stdout",
     "output_type": "stream",
     "text": [
      "Populating the interactive namespace from numpy and matplotlib\n",
      "1.11.0\n"
     ]
    }
   ],
   "source": [
    "%pylab inline\n",
    "plt.style.use('seaborn-talk')\n",
    "import tensorflow as tf\n",
    "\n",
    "print(tf.__version__)"
   ]
  },
  {
   "cell_type": "markdown",
   "metadata": {},
   "source": [
    "## Getting familiar with Tensorflow"
   ]
  },
  {
   "cell_type": "markdown",
   "metadata": {},
   "source": [
    "TF uses lazy evaluation. When we define an operation, we only create the execution graph for that operation. We need to explicitly *run* the graph to obtain the result.\n",
    "* TF also supports eager execution in Python, which runs the operations inmediately, but we will not use it in this notebook\n",
    "* Eager execution is intented for running small tests in an interactive notebook or prompt"
   ]
  },
  {
   "cell_type": "markdown",
   "metadata": {},
   "source": [
    "In Numpy, operations occur as soon as they are written.\n",
    "However, in TF we need to explicitly run the graph to obtain a result:"
   ]
  },
  {
   "cell_type": "code",
   "execution_count": 2,
   "metadata": {},
   "outputs": [
    {
     "data": {
      "text/plain": [
       "<tf.Tensor 'Const:0' shape=() dtype=int32>"
      ]
     },
     "execution_count": 2,
     "metadata": {},
     "output_type": "execute_result"
    }
   ],
   "source": [
    "# Sum to numpy arrays\n",
    "x=tf.constant(5)\n",
    "y = tf.constant(8)\n",
    "z = tf.multiply(x,y)\n",
    "# hasta aquí definimos  el grafo, que es lazy por defecto\n",
    "x"
   ]
  },
  {
   "cell_type": "code",
   "execution_count": 5,
   "metadata": {},
   "outputs": [
    {
     "data": {
      "text/plain": [
       "<tf.Tensor 'Placeholder_1:0' shape=<unknown> dtype=int32>"
      ]
     },
     "execution_count": 5,
     "metadata": {},
     "output_type": "execute_result"
    }
   ],
   "source": [
    "# definimos un placeholder\n",
    "p = tf.placeholder(dtype = tf.int32)\n",
    "p"
   ]
  },
  {
   "cell_type": "code",
   "execution_count": 6,
   "metadata": {},
   "outputs": [],
   "source": [
    "# defino una operación entre la salida de una operacion previa y el placeholder\n",
    "z_p = tf.multiply(z,p)"
   ]
  },
  {
   "cell_type": "code",
   "execution_count": 3,
   "metadata": {},
   "outputs": [
    {
     "data": {
      "text/plain": [
       "40"
      ]
     },
     "execution_count": 3,
     "metadata": {},
     "output_type": "execute_result"
    }
   ],
   "source": [
    "# genreamos la sesión para realizar el cálculo que representa el grafo\n",
    "with tf.Session() as sess:\n",
    "    z_=sess.run(z)\n",
    "    \n",
    "z_"
   ]
  },
  {
   "cell_type": "code",
   "execution_count": null,
   "metadata": {},
   "outputs": [],
   "source": [
    "# una operacion con placeholder sin alimentar da fallo\n",
    "with tf.Session() as sess:\n",
    "    z_p_=sess.run(z_p)\n",
    "    \n",
    "z_p"
   ]
  },
  {
   "cell_type": "code",
   "execution_count": 8,
   "metadata": {},
   "outputs": [
    {
     "data": {
      "text/plain": [
       "200"
      ]
     },
     "execution_count": 8,
     "metadata": {},
     "output_type": "execute_result"
    }
   ],
   "source": [
    "# igual alimentando el placeholder\n",
    "with tf.Session() as sess:\n",
    "    z_p_=sess.run(z_p, feed_dict = {p:5})\n",
    "    \n",
    "z_p_"
   ]
  },
  {
   "cell_type": "code",
   "execution_count": null,
   "metadata": {
    "collapsed": true
   },
   "outputs": [],
   "source": [
    "# Do the same with TF"
   ]
  },
  {
   "cell_type": "code",
   "execution_count": null,
   "metadata": {
    "collapsed": true
   },
   "outputs": [],
   "source": []
  },
  {
   "cell_type": "markdown",
   "metadata": {},
   "source": [
    "### Exercise\n",
    "\n",
    "To obtain the area of a triangle given the length of its sides $a$, $b$ and $c$, you can use the Formula of Heron \n",
    "\n",
    "$\\sqrt{s(s-a)(s-b)(s-c)}$ where $\\displaystyle s=\\frac{a+b+c}{2}$ \n",
    "\n",
    "* For more context, see https://en.wikipedia.org/wiki/Heron%27s_formula\n",
    "\n",
    "Assume that $a$, $b$ and $c$ are given as an array with 3 columns and an arbirtray number of rows, named *sides*. Each row is a possible triangle\n",
    "\n",
    "You should write two functions that takes as inputs the arrays *sides* and returns an array with as many components as triangles, being each component the area of the corresponding triangle:\n",
    "* One function using Numpy\n",
    "* One function using Tensorflow. \n",
    " *  The function should return the *tf.Tensor* without running it. The caller of the function will need to run the output afterwards to get the result\n",
    " * How do you do a square root in TF? Look up the available operations at https://www.tensorflow.org/api_docs/python/tf"
   ]
  },
  {
   "cell_type": "code",
   "execution_count": 17,
   "metadata": {
    "collapsed": true
   },
   "outputs": [],
   "source": [
    "# Solution with Numpy\n",
    "def heron_np(sides):\n",
    "    s = np.sum(sides, axis=1) / 2\n",
    "    a,b,c = [sides[:,i] for i in range(np.size(sides,1))]\n",
    "    \n",
    "    return np.sqrt(s * (s-a)*(s-b)*(s-c))"
   ]
  },
  {
   "cell_type": "code",
   "execution_count": 18,
   "metadata": {
    "collapsed": true
   },
   "outputs": [
    {
     "name": "stdout",
     "output_type": "stream",
     "text": [
      "Input triangles:\n",
      "[[5.  3.  7.1]\n",
      " [2.3 4.1 4.8]]\n",
      "Output with multiple rows:\n",
      "[6.27849454 4.70914005]\n",
      "Outputs with single rows:\n",
      "[6.27849454]\n",
      "[4.70914005]\n"
     ]
    }
   ],
   "source": [
    "# Check results with numpy\n",
    "sides = np.array([[5, 3, 7.1],[ 2.3, 4.1, 4.8]])\n",
    "print(\"Input triangles:\")\n",
    "print(sides)\n",
    "\n",
    "print(\"Output with multiple rows:\")\n",
    "multi = heron_np(sides)\n",
    "print(multi)\n",
    "print(\"Outputs with single rows:\")\n",
    "a1 = heron_np(np.array([sides[0,:]]))\n",
    "a2 = heron_np(np.array([sides[1,:]]))\n",
    "print(a1)\n",
    "print(a2)\n",
    "assert np.all(multi == np.append(a1,a2))"
   ]
  },
  {
   "cell_type": "code",
   "execution_count": 23,
   "metadata": {
    "collapsed": true
   },
   "outputs": [],
   "source": [
    "# Solution with TF: handling tensors in TF is quite similar to handling numpy arrays\n",
    "def heron_tf(sides):\n",
    "    a = tf.constant(sides[:,0])\n",
    "    b = tf.constant(sides[:,1])\n",
    "    c = tf.constant(sides[:,2])\n",
    "    s = (a + b + c)/2\n",
    "    z = tf.sqrt(s * (s-a) * (s-b) * (s-c))    \n",
    "    return z"
   ]
  },
  {
   "cell_type": "code",
   "execution_count": 26,
   "metadata": {
    "collapsed": true
   },
   "outputs": [
    {
     "name": "stdout",
     "output_type": "stream",
     "text": [
      "[6.27849454 4.70914005]\n"
     ]
    }
   ],
   "source": [
    "# Check the TF solution\n",
    "# nuestra función devuelve el grafo\n",
    "areas_tf = heron_tf(sides)\n",
    "\n",
    "# lo evaluamos\n",
    "with tf.Session() as sess:\n",
    "    areas =sess.run(areas_tf)\n",
    "    \n",
    "print(areas)\n"
   ]
  },
  {
   "cell_type": "code",
   "execution_count": 34,
   "metadata": {},
   "outputs": [],
   "source": [
    "# pasando un placeholder\n",
    "def heron_tf2(sides_ph):\n",
    "    a = sides_ph[:,0]\n",
    "    b = sides_ph[:,1]\n",
    "    c = sides_ph[:,2]\n",
    "    s = (a + b + c)/2\n",
    "    z = tf.sqrt(s * (s-a) * (s-b) * (s-c))    \n",
    "    return z"
   ]
  },
  {
   "cell_type": "code",
   "execution_count": 35,
   "metadata": {},
   "outputs": [
    {
     "name": "stdout",
     "output_type": "stream",
     "text": [
      "[6.27849454 4.70914005]\n"
     ]
    }
   ],
   "source": [
    "# aquí estoy definiendo el placeholder sin pasar las dimensiones (asignara la memoria dinamicamente)\n",
    "mysides_ph = tf.placeholder(dtype = tf.float64)\n",
    "# así se declararía de modo estático (probablemente más eficiente)\n",
    "# mysides_ph = tf.placeholder(dtype = tf.float64, shape=[2,3])\n",
    "areas_tf_ph = heron_tf2(mysides_ph)\n",
    "\n",
    "#evaluacion rellenando el placeholder con feed_dict\n",
    "with tf.Session() as sess:\n",
    "    areas_ph = sess.run(areas_tf_ph, feed_dict = {mysides_ph:sides})\n",
    "    \n",
    "print(areas_ph)"
   ]
  },
  {
   "cell_type": "markdown",
   "metadata": {},
   "source": [
    "## Our first model"
   ]
  },
  {
   "cell_type": "markdown",
   "metadata": {},
   "source": [
    "For this model, we will use the following data:\n",
    "* http://www.nyc.gov/html/tlc/html/about/trip_record_data.shtml\n",
    "\n",
    "In the data subdirectory, you will find three files. We have divided the dataset in three subsets\n",
    "* Training\n",
    "* Validation\n",
    "* Test\n",
    "\n",
    "**Question**: Why three different sets? What will we use the validation set for? Could not we use just two subsets?"
   ]
  },
  {
   "cell_type": "code",
   "execution_count": 36,
   "metadata": {},
   "outputs": [
    {
     "name": "stdout",
     "output_type": "stream",
     "text": [
      "-rw-r--r-- 1 ptardaguila 1049089  84K Nov 16 13:01 ../data/taxi-test.csv\n",
      "-rw-r--r-- 1 ptardaguila 1049089 394K Nov 16 13:01 ../data/taxi-train.csv\n",
      "-rw-r--r-- 1 ptardaguila 1049089  84K Nov 16 13:01 ../data/taxi-valid.csv\n"
     ]
    }
   ],
   "source": [
    "! ls -hl ../data/taxi*"
   ]
  },
  {
   "cell_type": "code",
   "execution_count": 37,
   "metadata": {
    "collapsed": true
   },
   "outputs": [],
   "source": [
    "# We will use Pandas to explore the data\n",
    "import pandas as pd"
   ]
  },
  {
   "cell_type": "code",
   "execution_count": 38,
   "metadata": {
    "collapsed": true
   },
   "outputs": [],
   "source": [
    "# The CSV files come without a header, let's put some names for clarity\n",
    "CSV_COLUMNS = ['fare_amount', 'pickuplon','pickuplat','dropofflon','dropofflat','passengers', 'key']"
   ]
  },
  {
   "cell_type": "code",
   "execution_count": 44,
   "metadata": {
    "collapsed": true
   },
   "outputs": [],
   "source": [
    "# Read the train, validation and test data\n",
    "df_train = pd.read_csv('../data/taxi-train.csv', header=None, names= CSV_COLUMNS)\n",
    "df_test = pd.read_csv('../data/taxi-test.csv', header=None, names= CSV_COLUMNS)\n",
    "df_valid = pd.read_csv('../data/taxi-valid.csv', header=None, names= CSV_COLUMNS)\n"
   ]
  },
  {
   "cell_type": "markdown",
   "metadata": {},
   "source": [
    "### Transforming input data\n",
    "We will train a simple linear model using tf.estimator, a higher level API of TF.\n",
    "\n",
    "Notice that we have the data in Pandas dataframes. How can we feed a pandas dataframe to TF?\n",
    "\n",
    "One option is converting it to tensor from the dataframe using `tf.convert_to_tensor`."
   ]
  },
  {
   "cell_type": "code",
   "execution_count": 45,
   "metadata": {
    "collapsed": true
   },
   "outputs": [],
   "source": [
    "# Convert train, validation and test pd dataframes to tensors \n",
    "tf_train = tf.convert_to_tensor(df_train)\n",
    "tf_test = tf.convert_to_tensor(df_test)\n",
    "tf_valid = tf.convert_to_tensor(df_valid)"
   ]
  },
  {
   "cell_type": "markdown",
   "metadata": {},
   "source": [
    "However, it is easier to keep the Pandas df info (column names, etc.) to evaluate the model later on. We can create a TF dataset from Pandas, to use with tf.estimator.\n",
    "\n",
    "We will write a function so we can make several tests changing the number of epochs (one of the hyperaparemeters)"
   ]
  },
  {
   "cell_type": "code",
   "execution_count": 83,
   "metadata": {
    "collapsed": true
   },
   "outputs": [],
   "source": [
    "# Use tf.estimator.inputs.pandas_input_fn to create a TF dataset from Pandas\n",
    "\n",
    "# queue capacity: la cola es un almacén de datos que TF usa para preprocesar (almacenar en forma de tensores) los datos que irán a los batches, que son placeholders que van alimentados con los tensores de la cola. La construccion de la  cola depende de las epochs que queramos usar para entrenar el modelo posteriormente\n",
    "def pandas2tf(df, epochs):\n",
    "    tf_dataset = tf.estimator.inputs.pandas_input_fn(\n",
    "        x= df,\n",
    "        y = df.fare_amount, # predictando\n",
    "        shuffle = True,\n",
    "        queue_capacity=1000 # mil samples en la cola\n",
    "    )\n",
    "    \n",
    "    return tf_dataset "
   ]
  },
  {
   "cell_type": "code",
   "execution_count": 49,
   "metadata": {
    "collapsed": true
   },
   "outputs": [],
   "source": [
    "tf_train = pandas2tf(df_train, 1)\n",
    "tf_valid = pandas2tf(df_valid, 1)\n",
    "tf_test = pandas2tf(df_test, 1)"
   ]
  },
  {
   "cell_type": "markdown",
   "metadata": {},
   "source": [
    "### Feature columns\n",
    "\n",
    "For the model, we need to select the feature columns. We will use all columns, except the *key* one, which is just an index.\n",
    "\n",
    "Also, the first column is in fact the target variable that we will predict, so we will remove it from the features too."
   ]
  },
  {
   "cell_type": "code",
   "execution_count": 54,
   "metadata": {},
   "outputs": [],
   "source": [
    "# Define feature_cols using tf.feature_column.numeric_column\n",
    "feature_cols = [tf.feature_column.numeric_column(c) for c in CSV_COLUMNS[1:-1]]"
   ]
  },
  {
   "cell_type": "markdown",
   "metadata": {},
   "source": [
    "### Training the model"
   ]
  },
  {
   "cell_type": "code",
   "execution_count": 58,
   "metadata": {},
   "outputs": [],
   "source": [
    "tf.logging.set_verbosity(tf.logging.INFO)\n",
    "\n",
    "import shutil\n",
    "# WARNING!!!! THIS DIRECTORY WILL BE REMOVED, DON'T PUT ANYTHING THERE\n",
    "OUTDIR = 'taxi_trained'\n",
    "shutil.rmtree(OUTDIR, ignore_errors = True) # start fresh each time"
   ]
  },
  {
   "cell_type": "code",
   "execution_count": 59,
   "metadata": {},
   "outputs": [
    {
     "name": "stdout",
     "output_type": "stream",
     "text": [
      "INFO:tensorflow:Using default config.\n",
      "INFO:tensorflow:Using config: {'_model_dir': 'taxi_trained', '_tf_random_seed': None, '_save_summary_steps': 100, '_save_checkpoints_steps': None, '_save_checkpoints_secs': 600, '_session_config': allow_soft_placement: true\n",
      "graph_options {\n",
      "  rewrite_options {\n",
      "    meta_optimizer_iterations: ONE\n",
      "  }\n",
      "}\n",
      ", '_keep_checkpoint_max': 5, '_keep_checkpoint_every_n_hours': 10000, '_log_step_count_steps': 100, '_train_distribute': None, '_device_fn': None, '_protocol': None, '_eval_distribute': None, '_experimental_distribute': None, '_service': None, '_cluster_spec': <tensorflow.python.training.server_lib.ClusterSpec object at 0x000000000EF9E780>, '_task_type': 'worker', '_task_id': 0, '_global_id_in_cluster': 0, '_master': '', '_evaluation_master': '', '_is_chief': True, '_num_ps_replicas': 0, '_num_worker_replicas': 1}\n",
      "WARNING:tensorflow:From C:\\ProgramData\\Anaconda3\\envs\\dl_win\\lib\\site-packages\\tensorflow\\python\\estimator\\inputs\\queues\\feeding_queue_runner.py:62: QueueRunner.__init__ (from tensorflow.python.training.queue_runner_impl) is deprecated and will be removed in a future version.\n",
      "Instructions for updating:\n",
      "To construct input pipelines, use the `tf.data` module.\n",
      "WARNING:tensorflow:From C:\\ProgramData\\Anaconda3\\envs\\dl_win\\lib\\site-packages\\tensorflow\\python\\estimator\\inputs\\queues\\feeding_functions.py:500: add_queue_runner (from tensorflow.python.training.queue_runner_impl) is deprecated and will be removed in a future version.\n",
      "Instructions for updating:\n",
      "To construct input pipelines, use the `tf.data` module.\n",
      "INFO:tensorflow:Calling model_fn.\n",
      "INFO:tensorflow:Done calling model_fn.\n",
      "INFO:tensorflow:Create CheckpointSaverHook.\n",
      "INFO:tensorflow:Graph was finalized.\n",
      "INFO:tensorflow:Running local_init_op.\n",
      "INFO:tensorflow:Done running local_init_op.\n",
      "WARNING:tensorflow:From C:\\ProgramData\\Anaconda3\\envs\\dl_win\\lib\\site-packages\\tensorflow\\python\\training\\monitored_session.py:804: start_queue_runners (from tensorflow.python.training.queue_runner_impl) is deprecated and will be removed in a future version.\n",
      "Instructions for updating:\n",
      "To construct input pipelines, use the `tf.data` module.\n",
      "INFO:tensorflow:Saving checkpoints for 0 into taxi_trained\\model.ckpt.\n",
      "INFO:tensorflow:loss = 32511.715, step = 1\n",
      "INFO:tensorflow:Saving checkpoints for 58 into taxi_trained\\model.ckpt.\n",
      "INFO:tensorflow:Loss for final step: 3739.687.\n"
     ]
    },
    {
     "data": {
      "text/plain": [
       "<tensorflow.python.estimator.canned.linear.LinearRegressor at 0xf1c1898>"
      ]
     },
     "execution_count": 59,
     "metadata": {},
     "output_type": "execute_result"
    }
   ],
   "source": [
    "# Linear Regression model using tf.estimator.LinearRegressor\n",
    "# No tenemos que identificar el predictando porque lo hicimos al definir el tensor dataset\n",
    "# con que alimentamos el modelo\n",
    "linear_model = tf.estimator.LinearRegressor(\n",
    "    feature_columns= feature_cols,\n",
    "    model_dir=OUTDIR\n",
    ")\n",
    "\n",
    "linear_model.train(tf_train)"
   ]
  },
  {
   "cell_type": "markdown",
   "metadata": {},
   "source": [
    "### Evaluate the model\n",
    "\n",
    "Is this model good? How can we interpret the average loss in the evaluation metrics dict? What's the *physical meaning* of that number?"
   ]
  },
  {
   "cell_type": "code",
   "execution_count": 61,
   "metadata": {
    "collapsed": true
   },
   "outputs": [
    {
     "name": "stdout",
     "output_type": "stream",
     "text": [
      "INFO:tensorflow:Calling model_fn.\n",
      "INFO:tensorflow:Done calling model_fn.\n",
      "INFO:tensorflow:Starting evaluation at 2018-11-17-09:58:37\n",
      "INFO:tensorflow:Graph was finalized.\n",
      "INFO:tensorflow:Restoring parameters from taxi_trained\\model.ckpt-58\n",
      "INFO:tensorflow:Running local_init_op.\n",
      "INFO:tensorflow:Done running local_init_op.\n",
      "INFO:tensorflow:Finished evaluation at 2018-11-17-09:58:37\n",
      "INFO:tensorflow:Saving dict for global step 58: average_loss = 94.50939, global_step = 58, label/mean = 11.340872, loss = 11421.096, prediction/mean = 11.286898\n",
      "INFO:tensorflow:Saving 'checkpoint_path' summary for global step 58: taxi_trained\\model.ckpt-58\n"
     ]
    },
    {
     "data": {
      "text/plain": [
       "{'average_loss': 94.50939,\n",
       " 'label/mean': 11.340872,\n",
       " 'loss': 11421.096,\n",
       " 'prediction/mean': 11.286898,\n",
       " 'global_step': 58}"
      ]
     },
     "execution_count": 61,
     "metadata": {},
     "output_type": "execute_result"
    }
   ],
   "source": [
    "# Evaluate the model with the help of the validation set\n",
    "metrics = linear_model.evaluate(tf_valid)\n",
    "metrics"
   ]
  },
  {
   "cell_type": "markdown",
   "metadata": {},
   "source": [
    "#### Question\n",
    "\n",
    "What is the average loss if we use the tf_train with evaluate? Is it correct to use those numbers to evaluate the model?"
   ]
  },
  {
   "cell_type": "markdown",
   "metadata": {},
   "source": [
    "### Exercise: plot the average loss for the training and validation datasets, over the num. of epochs\n",
    "\n",
    "What is the impact of the number of epochs in the results of the model?\n",
    "\n",
    "Repeat the training process with epochs ranging from 1 to 10, and plot the *average_loss* for the training and validation datasets.\n",
    "* What conclusions can you extract from that plot?"
   ]
  },
  {
   "cell_type": "code",
   "execution_count": 73,
   "metadata": {
    "collapsed": true
   },
   "outputs": [],
   "source": [
    "tf.logging.set_verbosity(tf.logging.ERROR)\n",
    "OUTDIR = 'taxi_trained'\n",
    "shutil.rmtree(OUTDIR, ignore_errors = True) # start fresh each time\n",
    "    \n",
    "def train_for_epochs(nepochs):\n",
    "    \n",
    "    tf_train = pandas2tf(df_train, nepochs)\n",
    "    tf_valid = pandas2tf(df_valid, nepochs)\n",
    "    \n",
    "    model = tf.estimator.LinearRegressor(\n",
    "        feature_columns=feature_cols,\n",
    "        model_dir=OUTDIR\n",
    "    )\n",
    "    \n",
    "    model.train(tf_train)\n",
    "    train_loss = model.evaluate(tf_train)['average_loss']\n",
    "    valid_loss = model.evaluate(tf_valid)['average_loss']\n",
    "    print('train_loss=', train_loss, 'valid_loss=',valid_loss)\n",
    "    return train_loss, valid_loss"
   ]
  },
  {
   "cell_type": "code",
   "execution_count": 74,
   "metadata": {},
   "outputs": [
    {
     "name": "stdout",
     "output_type": "stream",
     "text": [
      "Training with 1 epochs...\n",
      "train_loss= 102.61062 valid_loss= 97.07974\n",
      "Training with 2 epochs...\n",
      "train_loss= 100.056946 valid_loss= 94.77326\n",
      "Training with 3 epochs...\n",
      "train_loss= 101.02687 valid_loss= 95.811104\n",
      "Training with 4 epochs...\n",
      "train_loss= 100.0869 valid_loss= 94.79156\n",
      "Training with 5 epochs...\n",
      "train_loss= 99.841805 valid_loss= 94.47963\n",
      "Training with 6 epochs...\n",
      "train_loss= 100.64336 valid_loss= 95.16749\n",
      "Training with 7 epochs...\n",
      "train_loss= 99.89654 valid_loss= 94.49731\n",
      "Training with 8 epochs...\n",
      "train_loss= 99.94281 valid_loss= 94.532104\n",
      "Training with 9 epochs...\n",
      "train_loss= 99.85027 valid_loss= 94.48968\n",
      "Training with 10 epochs...\n",
      "train_loss= 100.43906 valid_loss= 95.1605\n"
     ]
    },
    {
     "data": {
      "image/png": "[encoded data removed]",
      "text/plain": [
       "<Figure size 720x504 with 1 Axes>"
      ]
     },
     "metadata": {
      "needs_background": "light"
     },
     "output_type": "display_data"
    }
   ],
   "source": [
    "# Plot the results\n",
    "epochs = np.arange(1,11)\n",
    "train_loss = []\n",
    "valid_loss = []\n",
    "for e in epochs:\n",
    "    print(\"Training with %d epochs...\" % e)\n",
    "    t, v = train_for_epochs(e)\n",
    "    train_loss.append(t)\n",
    "    valid_loss.append(v)\n",
    "    \n",
    "plt.figure(figsize=(10,7))\n",
    "plt.plot(epochs, train_loss, label='Training')\n",
    "plt.plot(epochs, valid_loss, label='Validation')\n",
    "plt.legend()\n",
    "plt.xlabel('Epochs')\n",
    "plt.ylabel('Loss')\n",
    "plt.grid()"
   ]
  },
  {
   "cell_type": "markdown",
   "metadata": {},
   "source": [
    "So the model does not look exceptionally good. This is normal, we have just tried a linear model without any kind of feature engineering or transformation; we don't know for instance if the relationship between *fare_amount* and the rest of features is linear or not.\n",
    "\n",
    "Let's try another simple model using TF, but this one will be more complex"
   ]
  },
  {
   "cell_type": "markdown",
   "metadata": {},
   "source": [
    "## A more complex model\n",
    "\n",
    "We are going to reuse a lot of code from the previous model, we will just change the kind of estimator we are using.\n",
    "\n",
    "Let's repeat the same estimator again, and we will run it for 20 epochs this time. Then we will compare it with the new one:"
   ]
  },
  {
   "cell_type": "code",
   "execution_count": 84,
   "metadata": {
    "collapsed": true
   },
   "outputs": [],
   "source": [
    "# Si usamos la funcion creada con queue_capacity=1000 probablemente falle a partir de un determinado numero de epochs. Redefinimos con una cola  mayor\n",
    "def pandas2tf(df, epochs):\n",
    "    tf_dataset = tf.estimator.inputs.pandas_input_fn(\n",
    "        x= df,\n",
    "        y = df.fare_amount, # predictando\n",
    "        shuffle = True,\n",
    "        queue_capacity=5000 # mil samples en la cola\n",
    "    )\n",
    "    \n",
    "    return tf_dataset "
   ]
  },
  {
   "cell_type": "code",
   "execution_count": 85,
   "metadata": {
    "collapsed": true
   },
   "outputs": [],
   "source": [
    "\n",
    "def train_for_epochs_dl(nepochs):\n",
    "    \n",
    "    tf_train = pandas2tf(df_train, nepochs)\n",
    "    tf_valid = pandas2tf(df_valid, nepochs)\n",
    "    \n",
    "    model = tf.estimator.DNNRegressor(\n",
    "        feature_columns=feature_cols,\n",
    "        model_dir=OUTDIR,\n",
    "        hidden_units=[32,8,2] # dimensión de las capas ocultas: estamos metiendo una expansion y luego compresion del problema (receta tipica en aproximacion de modelos lineales)\n",
    "    )\n",
    "    \n",
    "    model.train(tf_train)\n",
    "    train_loss = model.evaluate(tf_train)['average_loss']\n",
    "    valid_loss = model.evaluate(tf_valid)['average_loss']\n",
    "    print('train_loss=', train_loss, 'valid_loss=',valid_loss)\n",
    "    return train_loss, valid_loss"
   ]
  },
  {
   "cell_type": "code",
   "execution_count": 86,
   "metadata": {},
   "outputs": [
    {
     "name": "stdout",
     "output_type": "stream",
     "text": [
      "Training with 1 epochs...\n",
      "train_loss= 214.11267 valid_loss= 207.50415\n",
      "Training with 2 epochs...\n",
      "train_loss= 207.6938 valid_loss= 201.12323\n",
      "Training with 3 epochs...\n",
      "train_loss= 202.93489 valid_loss= 196.39322\n",
      "Training with 4 epochs...\n",
      "train_loss= 199.044 valid_loss= 192.52646\n",
      "Training with 5 epochs...\n",
      "train_loss= 195.69977 valid_loss= 189.20328\n",
      "Training with 6 epochs...\n",
      "train_loss= 192.74055 valid_loss= 186.26312\n",
      "Training with 7 epochs...\n",
      "train_loss= 190.07668 valid_loss= 183.61656\n",
      "Training with 8 epochs...\n",
      "train_loss= 187.64488 valid_loss= 181.2008\n",
      "Training with 9 epochs...\n",
      "train_loss= 185.40202 valid_loss= 178.97295\n",
      "Training with 10 epochs...\n",
      "train_loss= 183.31728 valid_loss= 176.90234\n",
      "Training with 11 epochs...\n",
      "train_loss= 181.36714 valid_loss= 174.96556\n",
      "Training with 12 epochs...\n",
      "train_loss= 179.53426 valid_loss= 173.14542\n",
      "Training with 13 epochs...\n",
      "train_loss= 177.80324 valid_loss= 171.42656\n",
      "Training with 14 epochs...\n",
      "train_loss= 176.16249 valid_loss= 169.79744\n",
      "Training with 15 epochs...\n",
      "train_loss= 174.60191 valid_loss= 168.24805\n",
      "Training with 16 epochs...\n",
      "train_loss= 173.11427 valid_loss= 166.77121\n",
      "Training with 17 epochs...\n",
      "train_loss= 171.69203 valid_loss= 165.35933\n",
      "Training with 18 epochs...\n",
      "train_loss= 170.33017 valid_loss= 164.00757\n",
      "Training with 19 epochs...\n",
      "train_loss= 169.02309 valid_loss= 162.71025\n",
      "Training with 20 epochs...\n",
      "train_loss= 167.76657 valid_loss= 161.4632\n"
     ]
    },
    {
     "data": {
      "image/png": "[encoded data removed]",
      "text/plain": [
       "<Figure size 720x504 with 1 Axes>"
      ]
     },
     "metadata": {
      "needs_background": "light"
     },
     "output_type": "display_data"
    }
   ],
   "source": [
    "shutil.rmtree(OUTDIR, ignore_errors = True) # start fresh each time\n",
    "# Plot the results\n",
    "epochs = np.arange(1,21)\n",
    "train_dl_loss = []\n",
    "valid_dl_loss = []\n",
    "for e in epochs:\n",
    "    print(\"Training with %d epochs...\" % e)\n",
    "    t, v = train_for_epochs_dl(e)\n",
    "    train_dl_loss.append(t)\n",
    "    valid_dl_loss.append(v)\n",
    "    \n",
    "plt.figure(figsize=(10,7))\n",
    "plt.plot(epochs, train_dl_loss, label='Training')\n",
    "plt.plot(epochs, valid_dl_loss, label='Validation')\n",
    "plt.legend()\n",
    "plt.xlabel('Epochs')\n",
    "plt.ylabel('Loss')\n",
    "plt.grid()"
   ]
  },
  {
   "cell_type": "code",
   "execution_count": 87,
   "metadata": {},
   "outputs": [
    {
     "ename": "NameError",
     "evalue": "name 'train_dl_loss' is not defined",
     "output_type": "error",
     "traceback": [
      "\u001b[1;31m---------------------------------------------------------------------------\u001b[0m",
      "\u001b[1;31mNameError\u001b[0m                                 Traceback (most recent call last)",
      "\u001b[1;32m<ipython-input-87-20c566451ac9>\u001b[0m in \u001b[0;36m<module>\u001b[1;34m\u001b[0m\n\u001b[0;32m      2\u001b[0m \u001b[0mplt\u001b[0m\u001b[1;33m.\u001b[0m\u001b[0mplot\u001b[0m\u001b[1;33m(\u001b[0m\u001b[0mepochs\u001b[0m\u001b[1;33m,\u001b[0m \u001b[0mtrain_loss\u001b[0m\u001b[1;33m,\u001b[0m \u001b[0mlabel\u001b[0m\u001b[1;33m=\u001b[0m\u001b[1;34m'Training (linear)'\u001b[0m\u001b[1;33m)\u001b[0m\u001b[1;33m\u001b[0m\u001b[0m\n\u001b[0;32m      3\u001b[0m \u001b[0mplt\u001b[0m\u001b[1;33m.\u001b[0m\u001b[0mplot\u001b[0m\u001b[1;33m(\u001b[0m\u001b[0mepochs\u001b[0m\u001b[1;33m,\u001b[0m \u001b[0mvalid_loss\u001b[0m\u001b[1;33m,\u001b[0m \u001b[0mlabel\u001b[0m\u001b[1;33m=\u001b[0m\u001b[1;34m'Validation (linear)'\u001b[0m\u001b[1;33m)\u001b[0m\u001b[1;33m\u001b[0m\u001b[0m\n\u001b[1;32m----> 4\u001b[1;33m \u001b[0mplt\u001b[0m\u001b[1;33m.\u001b[0m\u001b[0mplot\u001b[0m\u001b[1;33m(\u001b[0m\u001b[0mepochs\u001b[0m\u001b[1;33m,\u001b[0m \u001b[0mtrain_dl_loss\u001b[0m\u001b[1;33m,\u001b[0m \u001b[0mlabel\u001b[0m\u001b[1;33m=\u001b[0m\u001b[1;34m'Training (DL)'\u001b[0m\u001b[1;33m)\u001b[0m\u001b[1;33m\u001b[0m\u001b[0m\n\u001b[0m\u001b[0;32m      5\u001b[0m \u001b[0mplt\u001b[0m\u001b[1;33m.\u001b[0m\u001b[0mplot\u001b[0m\u001b[1;33m(\u001b[0m\u001b[0mepochs\u001b[0m\u001b[1;33m,\u001b[0m \u001b[0mvalid_dl_loss\u001b[0m\u001b[1;33m,\u001b[0m \u001b[0mlabel\u001b[0m\u001b[1;33m=\u001b[0m\u001b[1;34m'Validation (DL)'\u001b[0m\u001b[1;33m)\u001b[0m\u001b[1;33m\u001b[0m\u001b[0m\n\u001b[0;32m      6\u001b[0m \u001b[0mplt\u001b[0m\u001b[1;33m.\u001b[0m\u001b[0mlegend\u001b[0m\u001b[1;33m(\u001b[0m\u001b[1;33m)\u001b[0m\u001b[1;33m\u001b[0m\u001b[0m\n",
      "\u001b[1;31mNameError\u001b[0m: name 'train_dl_loss' is not defined"
     ]
    },
    {
     "data": {
      "image/png": "[encoded data removed]",
      "text/plain": [
       "<Figure size 720x504 with 1 Axes>"
      ]
     },
     "metadata": {
      "needs_background": "light"
     },
     "output_type": "display_data"
    }
   ],
   "source": [
    "plt.figure(figsize=(10,7))\n",
    "plt.plot(epochs, train_loss, label='Training (linear)')\n",
    "plt.plot(epochs, valid_loss, label='Validation (linear)')\n",
    "plt.plot(epochs, train_dl_loss, label='Training (DL)')\n",
    "plt.plot(epochs, valid_dl_loss, label='Validation (DL)')\n",
    "plt.legend()\n",
    "plt.xlabel('Epochs')\n",
    "plt.ylabel('Loss')\n",
    "plt.grid()"
   ]
  },
  {
   "cell_type": "markdown",
   "metadata": {},
   "source": [
    "Is this new model better? Why does not the linear model change with the number of epochs?\n",
    "\n",
    "What would you do next to improve the Deep Learning model?\n",
    "* Possible answers: increase the number of epochs, maybe try a more complex model. Any other hyperparam?"
   ]
  },
  {
   "cell_type": "markdown",
   "metadata": {},
   "source": [
    "Let's try with 150 epochs, and see if we can beat the training and validation loss"
   ]
  },
  {
   "cell_type": "code",
   "execution_count": 88,
   "metadata": {
    "collapsed": true
   },
   "outputs": [
    {
     "data": {
      "text/plain": [
       "{'average_loss': 213.31387,\n",
       " 'label/mean': 11.104378,\n",
       " 'loss': 25794.57,\n",
       " 'prediction/mean': 0.0,\n",
       " 'global_step': 0}"
      ]
     },
     "execution_count": 88,
     "metadata": {},
     "output_type": "execute_result"
    }
   ],
   "source": [
    "tf_train = pandas2tf(df_train,70)\n",
    "tf_valid = pandas2tf(df_valid, 70)\n",
    "tf_test = pandas2tf(df_test, 70)\n",
    "\n",
    "shutil.rmtree(OUTDIR, ignore_errors=True)\n",
    "\n",
    "linear_model = tf.estimator.LinearRegressor(feature_columns=feature_cols, model_dir=OUTDIR)\n",
    "linear_model.evaluate(tf_test)"
   ]
  },
  {
   "cell_type": "code",
   "execution_count": 89,
   "metadata": {},
   "outputs": [
    {
     "data": {
      "text/plain": [
       "{'average_loss': 149.41762,\n",
       " 'label/mean': 11.104377,\n",
       " 'loss': 18068.04,\n",
       " 'prediction/mean': 3.3964365,\n",
       " 'global_step': 0}"
      ]
     },
     "execution_count": 89,
     "metadata": {},
     "output_type": "execute_result"
    }
   ],
   "source": [
    "shutil.rmtree(OUTDIR, ignore_errors=True)\n",
    "\n",
    "linear_model = tf.estimator.DNNRegressor(feature_columns=feature_cols, model_dir=OUTDIR, hidden_units=[32,8,2])\n",
    "linear_model.evaluate(tf_test)"
   ]
  },
  {
   "cell_type": "markdown",
   "metadata": {},
   "source": [
    "## Final decision about the models\n",
    "\n",
    "So far, we have been ignoring the test set. We have used the validation dataset to change the hyperparameters of the model. It is now the turn to use the test set to finally decide which model is better: the linear regressor or the neural network.\n",
    "\n",
    "For this, we can retrain the models using both the train and validation sets, with the hyperparameters that we have already decided. Then we will evaluate both models using only the test set, and we will find out which one is better predicting the test set, that is, a set of data that has not been used in any way to tune the model (the validation set has been used to tune the hyperparams, so somehow the validation set info is already included in the model)."
   ]
  },
  {
   "cell_type": "code",
   "execution_count": null,
   "metadata": {},
   "outputs": [],
   "source": [
    "# Evaluate the LinearRegressor model"
   ]
  },
  {
   "cell_type": "code",
   "execution_count": null,
   "metadata": {},
   "outputs": [],
   "source": [
    "# Evaluate tf.estimator.DNNRegressor model"
   ]
  }
 ],
 "metadata": {
  "kernelspec": {
   "display_name": "Python (dl_win)",
   "language": "python",
   "name": "dl_win"
  },
  "language_info": {
   "codemirror_mode": {
    "name": "ipython",
    "version": 3
   },
   "file_extension": ".py",
   "mimetype": "text/x-python",
   "name": "python",
   "nbconvert_exporter": "python",
   "pygments_lexer": "ipython3",
   "version": "3.6.6"
  }
 },
 "nbformat": 4,
 "nbformat_minor": 2
}
