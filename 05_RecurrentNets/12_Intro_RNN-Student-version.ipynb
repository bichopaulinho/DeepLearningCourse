{
 "cells": [
  {
   "cell_type": "markdown",
   "metadata": {
    "slideshow": {
     "slide_type": "-"
    }
   },
   "source": [
    "# Introduction to Recurrent Neural Networks \n",
    "\n",
    "Classical neural networks, including convolutional ones, suffer from two severe limitations:\n",
    "\n",
    "+ They only accept a fixed-sized vector as input and produce a fixed-sized vector as output.\n",
    "+ They do not consider the sequential nature of some data (language, video frames, time series, etc.) \n",
    "\n",
    "Recurrent neural networks overcome these limitations by allowing to operate over sequences of vectors (in the input, in the output, or both)."
   ]
  },
  {
   "cell_type": "markdown",
   "metadata": {},
   "source": [
    "## Vanilla Recurrent Neural Network\n",
    "\n",
    "+ We can think of the **hidden state** $s_t$ as a memory of the network that captures information about the previous steps.\n",
    "+ The RNN **shares the parameters** $U,V,W$ across all time steps.\n",
    "\n",
    "\n",
    "<img src=\"../../imgs/rnn_vanilla.png\" alt=\"\" style=\"width: 400px;\"/>\n"
   ]
  },
  {
   "cell_type": "markdown",
   "metadata": {},
   "source": [
    "## Unrolling in time of a RNN\n",
    "\n",
    "By unrolling we mean that we write out the network for the complete sequence. Note that the state at time $t$ depends on current input $x_t$ and previsous state $s_{t-1}$.\n",
    "\n",
    "$$ s_t = \\mbox{tanh }(Ux_t + W s_{t-1}) $$\n",
    "$$ y_t = \\mbox{softmax }(V s_t) $$\n",
    "\n",
    "<img src=\"../../imgs/rnn_unrolling.png\" alt=\"\" style=\"width: 600px;\"/>\n",
    "<img src=\"../../imgs/rnn_TanhReal.gif\" alt=\"\" style=\"width: 200px;\"/>\n"
   ]
  },
  {
   "cell_type": "markdown",
   "metadata": {},
   "source": [
    "## RNN inputs and ouputs\n",
    "\n",
    "<img src=\"../../imgs/rnn_kar.png\" alt=\"\" style=\"width: 600px;\"/>\n",
    "\n",
    "Source: http://karpathy.github.io/2015/05/21/rnn-effectiveness/"
   ]
  },
  {
   "cell_type": "markdown",
   "metadata": {},
   "source": [
    "## RNN capabilities\n",
    "\n",
    "From Karpahty's blog:\n",
    "\n",
    "\n",
    "''RNNs combine the input vector with their state vector with a fixed (but learned) function to produce a new state vector. This can in programming terms be interpreted as running a fixed program with certain inputs and some internal variables. Viewed this way, RNNs essentially describe programs. In fact, **it is known that RNNs are Turing-Complete** in the sense that they can to simulate arbitrary programs (with proper weights).''\n",
    "\n",
    "RNN have shown success in:\n",
    "\n",
    "+ Language modeling and generation.\n",
    "+ Machine Translation.\n",
    "+ Speech Recognition.\n",
    "+ Image Description.\n",
    "+ Question Answering.\n",
    "+ Time series analysis.\n",
    "+ Session based recommender systems\n",
    "+ Etc."
   ]
  },
  {
   "cell_type": "markdown",
   "metadata": {},
   "source": [
    "## RNN Training\n",
    "\n",
    "Training a RNN is similar to training a traditional NN, but with some modifications. The main reason is that parameters are shared by all time steps: in order to compute the gradient at $t=4$, we need to propagate 3 steps and sum up the gradients. This is called **Backpropagation through time (BPTT)**. Thanks god, this is automatically handled by the optimizer =)\n",
    "\n",
    "Recurrent neural networks propagate weight matrices from one time-step to the next. Recall the goal of a RNN implementation is to enable propagating context information through faraway time-steps. When these propagation results in a long series of matrix multiplications, **weights can vanish or explode**. \n",
    "\n",
    "Once the gradient value grows extremely large, it causes an overflow (i.e. ``NaN``) which is easily detectable at runtime; this issue is called the *Gradient Explosion Problem*. It is normally avoided by clipping gradients during training (use the parameter `clipnorm` in any optimizer), as introduced by [Thomas Mikolov](https://research.fb.com/people/mikolov-tomas/).\n",
    "\n",
    "<img src=\"../../imgs/rnn_exploding.png\" alt=\"\" style=\"width: 400px;\"/>\n",
    "\n",
    "When the gradient value goes to zero, however, it can go undetected while drastically reducing the learning quality of the model for far-away words in the corpus; this issue is called the *Vanishing Gradient Problem*. This issue is avoided with better initialization schemmes (in Keras, the `kernel_initializer` is set to 'glorot_uniform' and the  `recurrent_initializer` to 'orthogonal', see the [documentation](https://keras.io/layers/recurrent/)). "
   ]
  },
  {
   "cell_type": "markdown",
   "metadata": {},
   "source": [
    "# Gated Units\n",
    "\n",
    "The transition from hidden state $h_{t-1}$ to $h_{t}$ in vanilla RNN is defined by using an affine transformation and a point-wise nonlinearity. \n",
    "\n",
    "What motivates the use of gated units? Although RNNs can theoretically capture long-term dependencies, they are very hard to actually train to do this. **Gated recurrent units are designed** in a manner to have more persistent memory thereby making it easier for RNNs **to capture long-term dependencies**. \n",
    "\n",
    "The most important types of gated RNNs are:\n",
    "\n",
    "+ Long Short Term Memories (LSTM). It was introduced by S.Hochreiter and J.Schmidhuber in 1997 and is widely used. LSTM is very good in the long run due to its high complexity.\n",
    "+ Gated Recurrent Units (GRU). It was recently introduced by K.Cho. It is simpler than LSTM, fasters and optimizes quicker. \n"
   ]
  },
  {
   "cell_type": "markdown",
   "metadata": {},
   "source": [
    "#### LSTM\n",
    "\n",
    "The key idea of LSTMs is the cell state $C$, the horizontal line running through the top of the diagram.\n",
    "\n",
    "The cell state is kind of like a conveyor belt. It runs straight down the entire chain, with only some minor linear interactions. It’s very easy for information to just flow along it unchanged.\n",
    "\n",
    "<img src=\"../../imgs/rnn_lstm.png\" alt=\"Source: http://colah.github.io/posts/2015-08-Understanding-LSTMs/\" style=\"width: 600px;\"/> \n",
    "\n",
    "LSTM has the ability to remove or add information to the cell state, carefully regulated by structures called gates.\n",
    "\n",
    "Gates are a way to optionally let information through. They are composed out of a *sigmoid* neural net layer and a pointwise multiplication operation.\n",
    "\n",
    "Let us see how a LSTM uses $h_{t-1}, C_{t-1}$ and $x_{t}$ to generate the next hidden states $C_t, h_{t}$:\n",
    "\n",
    "$$ f_t = \\sigma(W_f \\cdot [h_{t-1}, x_t]) \\mbox{ (Forget gate)} $$\n",
    "$$ i_t = \\sigma(W_i \\cdot [h_{t-1}, x_t]) \\mbox{ (Input gate)} $$\n",
    "$$ \\tilde C_t = \\operatorname{tanh}(W_C \\cdot [h_{t-1}, x_t]) $$\n",
    "$$ C_t = f_t * C_{t-1} + i_t * \\tilde C_t \\mbox{ (Update gate)} $$\n",
    "$$ o_t = \\sigma(W_o \\cdot [h_{t-1}, x_t]) $$\n",
    "$$ h_t = o_t * \\operatorname{tanh}(C_t) \\mbox{ (Output gate)} $$\n",
    "\n",
    "There are other variants of LSTM (f.e. LSTM with peephole connections of Gers & Schmidhuber (2000))"
   ]
  },
  {
   "cell_type": "markdown",
   "metadata": {},
   "source": [
    "#### GRU\n",
    "\n",
    "<img src=\"../../imgs/rnn_gru.png\" alt=\"Source: http://colah.github.io/posts/2015-08-Understanding-LSTMs/\" style=\"width: 300px;\"/> \n",
    "\n",
    "Let us see how a GRU uses $h_{t-1}$ and $x_{t}$ to generate the next hidden state $h_{t}$.\n",
    "\n",
    "$$ z_{t} = \\sigma(W_z \\cdot [x_{t}, h_{t-1}]) \\mbox{ (Update gate)}$$\n",
    "$$ r_{t} = \\sigma(W_r \\cdot [x_{t}, h_{t-1}]) \\mbox{ (Reset gate)}$$\n",
    "$$ \\tilde{h}_{t} = \\operatorname{tanh}(r_{t} \\cdot  [x_{t}, r_t \\circ h_{t-1}]   ) \\mbox{ (New memory)}$$\n",
    "$$ h_{t} = (1 - z_{t}) \\circ \\tilde{h}_{t-1} + z_{t} \\circ h_{t} \\mbox{ (Hidden state)}$$\n",
    "\n",
    "It combines the forget and input gates into a single “update gate.” It also merges the cell state and hidden state, and makes some other changes. The resulting model is simpler than standard LSTM models."
   ]
  },
  {
   "cell_type": "markdown",
   "metadata": {},
   "source": [
    "# Example: Learning to predict a sequence from another sequence\n",
    "\n",
    "The proposed task is to predict a signal (e.g., a cosine) out of phase from the original signal"
   ]
  },
  {
   "cell_type": "code",
   "execution_count": 1,
   "metadata": {},
   "outputs": [
    {
     "name": "stderr",
     "output_type": "stream",
     "text": [
      "Using TensorFlow backend.\n"
     ]
    }
   ],
   "source": [
    "import numpy as np\n",
    "import matplotlib.pyplot as plt\n",
    "from keras.models import Sequential\n",
    "from keras.layers.core import Dense\n",
    "from keras.layers.recurrent import LSTM, GRU\n",
    "from keras import losses\n",
    "import keras.backend as K"
   ]
  },
  {
   "cell_type": "code",
   "execution_count": 2,
   "metadata": {},
   "outputs": [],
   "source": [
    "f = lambda x: (np.cos(x)**2 + np.sin(x))/2.0\n",
    "nb_samples = 5000 \n",
    "\n",
    "phase = -np.pi / 4.0\n",
    "x = np.linspace(-5*np.pi, 5*np.pi, nb_samples)\n",
    "x_train = f(x)\n",
    "y_train = f(x+phase)"
   ]
  },
  {
   "cell_type": "code",
   "execution_count": 3,
   "metadata": {},
   "outputs": [
    {
     "data": {
      "image/png": "[encoded data removed]",
      "text/plain": [
       "<Figure size 432x288 with 1 Axes>"
      ]
     },
     "metadata": {
      "needs_background": "light"
     },
     "output_type": "display_data"
    }
   ],
   "source": [
    "plt.plot(x, x_train, 'b')\n",
    "plt.plot(x, y_train, 'g')\n",
    "plt.show()"
   ]
  },
  {
   "cell_type": "code",
   "execution_count": 4,
   "metadata": {},
   "outputs": [
    {
     "data": {
      "image/png": "[encoded data removed]",
      "text/plain": [
       "<Figure size 432x288 with 1 Axes>"
      ]
     },
     "metadata": {
      "needs_background": "light"
     },
     "output_type": "display_data"
    }
   ],
   "source": [
    "plt.plot(x_train, y_train);"
   ]
  },
  {
   "cell_type": "markdown",
   "metadata": {},
   "source": [
    "## Handling sequences with RNNs\n",
    "\n",
    "Whenever you train or test your LSTM/GRU, you first have to build your input matrix $X$ of shape ``nb_samples``, ``timesteps``, ``input_dim`` where your batch size divides ``nb_samples``. \n",
    "\n",
    "For instance, if ``nb_samples=1024`` and ``batch_size=64``, it means that your model will receive blocks of 64 samples, compute each output (whatever the number of timesteps is for every sample), average the gradients and propagate it to update the parameters vector. \n",
    "\n",
    "> By default, **Keras shuffles (permutes) the samples in $X$** and the dependencies between $X_i$ and $X_{i+1}$ are lost. \n",
    "\n",
    "With the stateful model, all the states are propagated to the next batch. It means that the state of the sample located at index $i$, $X_i$, will be used in the computation of the sample $X_{i+bs}$ in the next batch, where $bs$ is the batch size (no shuffling).\n",
    "\n",
    "> Keras requires the batch size in ``stateful`` mode and ``shuffle=False``.\n",
    "\n",
    "In statefull mode, you have to restart the internal state of the cell after each epoch. In stateless mode this is done after each batch."
   ]
  },
  {
   "cell_type": "code",
   "execution_count": 7,
   "metadata": {},
   "outputs": [],
   "source": [
    "\n",
    "# define the batch size, tsteps and input_dim, and reshape the input accordingly\n",
    "batch_size = 25\n",
    "tsteps = 1 # cada secuencia tiene un solo paso (el estado se \"hereda\" al final de cada batch)\n",
    "input_dim = 1 #\n",
    "\n",
    "# ponemos todo en su forma adecuada\n",
    "x_train_rnn = x_train.reshape([x_train.shape[0],1,1])\n"
   ]
  },
  {
   "cell_type": "code",
   "execution_count": 8,
   "metadata": {},
   "outputs": [
    {
     "data": {
      "text/plain": [
       "(5000, 1, 1)"
      ]
     },
     "execution_count": 8,
     "metadata": {},
     "output_type": "execute_result"
    }
   ],
   "source": [
    "x_train_rnn.shape"
   ]
  },
  {
   "cell_type": "code",
   "execution_count": 16,
   "metadata": {},
   "outputs": [
    {
     "name": "stdout",
     "output_type": "stream",
     "text": [
      "_________________________________________________________________\n",
      "Layer (type)                 Output Shape              Param #   \n",
      "=================================================================\n",
      "lstm_1 (LSTM)                (25, 1, 50)               10400     \n",
      "_________________________________________________________________\n",
      "lstm_2 (LSTM)                (25, 50)                  20200     \n",
      "_________________________________________________________________\n",
      "dense_1 (Dense)              (25, 1)                   51        \n",
      "=================================================================\n",
      "Total params: 30,651\n",
      "Trainable params: 30,651\n",
      "Non-trainable params: 0\n",
      "_________________________________________________________________\n"
     ]
    }
   ],
   "source": [
    "K.clear_session()\n",
    "# Create a Sequential LSTM model, and compile it\n",
    "epochs = 30\n",
    "model = Sequential()\n",
    "model.add(LSTM(units = 50, \n",
    "               batch_input_shape=(batch_size, tsteps, input_dim), \n",
    "               return_sequences=True, # devuelve los estados hidden intermedios \n",
    "               stateful = True))\n",
    "#model.add(LSTM(units = 50, return_sequences = True, stateful = True))\n",
    "# otra capa recurrente\n",
    "model.add(LSTM(units = 50,\n",
    "               return_sequences = False,\n",
    "              stateful = True))\n",
    "# salida\n",
    "model.add(Dense(1))\n",
    "\n",
    "model.compile(optimizer = 'rmsprop', loss = 'mse')\n",
    "model.summary()\n"
   ]
  },
  {
   "cell_type": "code",
   "execution_count": 17,
   "metadata": {
    "scrolled": true
   },
   "outputs": [
    {
     "name": "stdout",
     "output_type": "stream",
     "text": [
      "Training\n",
      "Epoch 1/1\n",
      "5000/5000 [==============================] - 1s 177us/step - loss: 0.0150\n",
      "Epoch 1/1\n",
      "5000/5000 [==============================] - 0s 59us/step - loss: 0.0063\n",
      "Epoch 1/1\n",
      "5000/5000 [==============================] - 0s 56us/step - loss: 0.0054\n",
      "Epoch 1/1\n",
      "5000/5000 [==============================] - 0s 57us/step - loss: 0.0051\n",
      "Epoch 1/1\n",
      "5000/5000 [==============================] - 0s 57us/step - loss: 0.0047\n",
      "Epoch 1/1\n",
      "5000/5000 [==============================] - 0s 56us/step - loss: 0.0044\n",
      "Epoch 1/1\n",
      "5000/5000 [==============================] - 0s 57us/step - loss: 0.0043\n",
      "Epoch 1/1\n",
      "5000/5000 [==============================] - 0s 68us/step - loss: 0.0042\n",
      "Epoch 1/1\n",
      "5000/5000 [==============================] - 0s 60us/step - loss: 0.0039\n",
      "Epoch 1/1\n",
      "5000/5000 [==============================] - 0s 58us/step - loss: 0.0038\n",
      "Epoch 1/1\n",
      "5000/5000 [==============================] - 0s 68us/step - loss: 0.0037\n",
      "Epoch 1/1\n",
      "5000/5000 [==============================] - 0s 58us/step - loss: 0.0035\n",
      "Epoch 1/1\n",
      "5000/5000 [==============================] - 0s 57us/step - loss: 0.0036\n",
      "Epoch 1/1\n",
      "5000/5000 [==============================] - 0s 58us/step - loss: 0.0034\n",
      "Epoch 1/1\n",
      "5000/5000 [==============================] - 0s 58us/step - loss: 0.0035\n",
      "Epoch 1/1\n",
      "5000/5000 [==============================] - 0s 58us/step - loss: 0.0033\n",
      "Epoch 1/1\n",
      "5000/5000 [==============================] - 0s 58us/step - loss: 0.0033\n",
      "Epoch 1/1\n",
      "5000/5000 [==============================] - 0s 58us/step - loss: 0.0033\n",
      "Epoch 1/1\n",
      "5000/5000 [==============================] - 0s 58us/step - loss: 0.0031\n",
      "Epoch 1/1\n",
      "5000/5000 [==============================] - 0s 59us/step - loss: 0.0032\n",
      "Epoch 1/1\n",
      "5000/5000 [==============================] - 0s 58us/step - loss: 0.0030\n",
      "Epoch 1/1\n",
      "5000/5000 [==============================] - 0s 60us/step - loss: 0.0031\n",
      "Epoch 1/1\n",
      "5000/5000 [==============================] - 0s 59us/step - loss: 0.0028\n",
      "Epoch 1/1\n",
      "5000/5000 [==============================] - 0s 58us/step - loss: 0.0026\n",
      "Epoch 1/1\n",
      "5000/5000 [==============================] - 0s 61us/step - loss: 0.0024\n",
      "Epoch 1/1\n",
      "5000/5000 [==============================] - 0s 65us/step - loss: 0.0022\n",
      "Epoch 1/1\n",
      "5000/5000 [==============================] - 0s 58us/step - loss: 0.0020\n",
      "Epoch 1/1\n",
      "5000/5000 [==============================] - 0s 59us/step - loss: 0.0019\n",
      "Epoch 1/1\n",
      "5000/5000 [==============================] - 0s 58us/step - loss: 0.0018\n",
      "Epoch 1/1\n",
      "5000/5000 [==============================] - 0s 57us/step - loss: 0.0017\n"
     ]
    }
   ],
   "source": [
    "# Train. The states have to be reset ater each epoch!\n",
    "print('Training')\n",
    "# para poder resetear el estado al final de cada epoch, hay que hacer este bucle\n",
    "for i in range(epochs):\n",
    "    model.fit(x_train_rnn, y_train, batch_size = batch_size, \n",
    "              epochs=1, \n",
    "              shuffle=False)\n",
    "    model.reset_states() # después de cada epoch ha de resetearse, por lo tanto 1\n"
   ]
  },
  {
   "cell_type": "code",
   "execution_count": 18,
   "metadata": {},
   "outputs": [
    {
     "name": "stdout",
     "output_type": "stream",
     "text": [
      "0.30687429612503236\n"
     ]
    },
    {
     "data": {
      "image/png": "[encoded data removed]",
      "text/plain": [
       "<Figure size 432x288 with 1 Axes>"
      ]
     },
     "metadata": {
      "needs_background": "light"
     },
     "output_type": "display_data"
    }
   ],
   "source": [
    "predicted_output = model.predict(x_train_rnn, batch_size = batch_size)\n",
    "err = np.mean((y_train-predicted_output)**2)\n",
    "print(err)\n",
    "plt.figure()\n",
    "plt.plot(x, predicted_output, 'b')\n",
    "plt.plot(x, y_train, '--k')\n",
    "plt.show()"
   ]
  },
  {
   "cell_type": "markdown",
   "metadata": {},
   "source": [
    "# Do the same with a GRU Cell"
   ]
  },
  {
   "cell_type": "code",
   "execution_count": null,
   "metadata": {},
   "outputs": [],
   "source": [
    "# ..."
   ]
  }
 ],
 "metadata": {
  "anaconda-cloud": {},
  "kernelspec": {
   "display_name": "Python (dl_win)",
   "language": "python",
   "name": "dl_win"
  },
  "language_info": {
   "codemirror_mode": {
    "name": "ipython",
    "version": 3
   },
   "file_extension": ".py",
   "mimetype": "text/x-python",
   "name": "python",
   "nbconvert_exporter": "python",
   "pygments_lexer": "ipython3",
   "version": "3.6.6"
  },
  "toc": {
   "colors": {
    "hover_highlight": "#DAA520",
    "running_highlight": "#FF0000",
    "selected_highlight": "#FFD700"
   },
   "moveMenuLeft": true,
   "nav_menu": {
    "height": "30px",
    "width": "252px"
   },
   "navigate_menu": true,
   "number_sections": true,
   "sideBar": true,
   "threshold": 4,
   "toc_cell": false,
   "toc_section_display": "block",
   "toc_window_display": false
  }
 },
 "nbformat": 4,
 "nbformat_minor": 2
}
